{
 "cells": [
  {
   "cell_type": "code",
   "execution_count": 1,
   "metadata": {},
   "outputs": [],
   "source": [
    "import dash\n",
    "from dash.dependencies import Input, Output, State\n",
    "import dash_core_components as dcc\n",
    "import dash_html_components as html\n",
    "import dash_table\n",
    "import plotly.graph_objs as go"
   ]
  },
  {
   "cell_type": "code",
   "execution_count": 2,
   "metadata": {},
   "outputs": [],
   "source": [
    "from jupyter_plotly_dash import JupyterDash"
   ]
  },
  {
   "cell_type": "markdown",
   "metadata": {},
   "source": [
    "### Dashboard Initialization"
   ]
  },
  {
   "cell_type": "code",
   "execution_count": 3,
   "metadata": {},
   "outputs": [],
   "source": [
    "colors = {\"background\": \"#111111\", \"text\": \"#A4B2AB\", \"plot\" : \"#45464A\", \"main_background\" : \"#111111\"}\n",
    "tab_style = {'borderBottom': '1px solid #d6d6d6','padding': '6px'}\n",
    "tab_selected_style = {'borderTop': '1px solid #d6d6d6','borderBottom': '1px solid #d6d6d6','padding': '6px','fontWeight': 'bold'}"
   ]
  },
  {
   "cell_type": "markdown",
   "metadata": {},
   "source": [
    "## App Initialization"
   ]
  },
  {
   "cell_type": "code",
   "execution_count": 4,
   "metadata": {},
   "outputs": [],
   "source": [
    "app_name = \"Twitter Analysis\"\n",
    "app = JupyterDash(name=app_name)"
   ]
  },
  {
   "cell_type": "code",
   "execution_count": 5,
   "metadata": {},
   "outputs": [],
   "source": [
    "app.layout = html.Div(\n",
    "    style={\"backgroundColor\": colors[\"main_background\"]},\n",
    "    children=[\n",
    "        ##Header\n",
    "        html.Div([\n",
    "            html.Header(\n",
    "                html.H1(\n",
    "                    \"Twitter Analyzer\",\n",
    "                    style={\n",
    "                        \"padding\": \"1.5rem\",\n",
    "                        \"align-items\": \"center\",\n",
    "                        \"color\": colors[\"text\"],\n",
    "                        \"textAlign\": \"center\",\n",
    "                    },\n",
    "                )\n",
    "            )],className=\"row\",\n",
    "        ),\n",
    "        \n",
    "        ##Datastores                            \n",
    "        #dcc.Store(id='tweet_datastore'),\n",
    "                \n",
    "        ##Tabs\n",
    "        html.Div([\n",
    "            dcc.Tabs(\n",
    "                id=\"tabs\",\n",
    "            \n",
    "                children=[\n",
    "\n",
    "  \n",
    "                    ##Tab 1     \n",
    "                    dcc.Tab(\n",
    "                        label=\"Analysis\",\n",
    "                        style = tab_style,\n",
    "                        selected_style = tab_selected_style,\n",
    "                        children=[\n",
    "                        \n",
    "            \n",
    "                    ]),\n",
    "\n",
    "                    ##Tab 2     \n",
    "                    dcc.Tab(\n",
    "                        label=\"Tweet Sentiment\",\n",
    "                        style = tab_style,\n",
    "                        selected_style = tab_selected_style,\n",
    "                        children=[\n",
    "                        \n",
    "            \n",
    "                    ]),\n",
    "                            \n",
    "                    ##Tab 3     \n",
    "                    dcc.Tab(\n",
    "                        label=\"Twitter User Influence\",\n",
    "                        style = tab_style,\n",
    "                        selected_style = tab_selected_style,\n",
    "                        children=[\n",
    "                        \n",
    "            \n",
    "                    ]),\n",
    "        \n",
    " \n",
    "                ],   style ={\n",
    "                    'height': '44px'\n",
    "                }),\n",
    "            ]),\n",
    "        ])"
   ]
  },
  {
   "cell_type": "markdown",
   "metadata": {},
   "source": [
    "### Render App"
   ]
  },
  {
   "cell_type": "code",
   "execution_count": 6,
   "metadata": {},
   "outputs": [
    {
     "data": {
      "text/html": [
       "<div>\n",
       "  <iframe src=\"/app/endpoints/424da19e374d42fcbe1c35c08777c08d/\" width=800 height=600 frameborder=\"0\"></iframe>\n",
       "  <hr/><a href=\"/app/endpoints/424da19e374d42fcbe1c35c08777c08d/\" target=\"_new\">Open in new window</a> for /app/endpoints/424da19e374d42fcbe1c35c08777c08d/\n",
       "</div>"
      ],
      "text/plain": [
       "<jupyter_plotly_dash.dash_wrapper.JupyterDash at 0x28de9dbfda0>"
      ]
     },
     "execution_count": 6,
     "metadata": {},
     "output_type": "execute_result"
    }
   ],
   "source": [
    "app"
   ]
  },
  {
   "cell_type": "code",
   "execution_count": null,
   "metadata": {},
   "outputs": [],
   "source": []
  },
  {
   "cell_type": "code",
   "execution_count": null,
   "metadata": {},
   "outputs": [],
   "source": []
  }
 ],
 "metadata": {
  "kernelspec": {
   "display_name": "Python 3",
   "language": "python",
   "name": "python3"
  },
  "language_info": {
   "codemirror_mode": {
    "name": "ipython",
    "version": 3
   },
   "file_extension": ".py",
   "mimetype": "text/x-python",
   "name": "python",
   "nbconvert_exporter": "python",
   "pygments_lexer": "ipython3",
   "version": "3.7.1"
  }
 },
 "nbformat": 4,
 "nbformat_minor": 2
}
