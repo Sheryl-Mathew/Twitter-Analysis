{
 "cells": [
  {
   "cell_type": "code",
   "execution_count": 1,
   "metadata": {},
   "outputs": [],
   "source": [
    "import sqlite3\n",
    "from sqlite3 import Error\n",
    "\n",
    "from pyspark.sql import Row\n",
    "from pyspark.sql import SQLContext\n",
    "from pyspark import SparkContext\n",
    "from pyspark.sql.functions import udf\n",
    "from pyspark.sql.types import (StructField,StructType,StringType,FloatType)\n",
    "\n",
    "from textblob import TextBlob\n",
    "import re"
   ]
  },
  {
   "cell_type": "code",
   "execution_count": 2,
   "metadata": {},
   "outputs": [],
   "source": [
    "def create_connection(db_file):\n",
    "    connection = None\n",
    "    try:\n",
    "        connection = sqlite3.connect(db_file)\n",
    "        return connection\n",
    "    except Error as e:\n",
    "        print(e)\n",
    " \n",
    "    return connection"
   ]
  },
  {
   "cell_type": "code",
   "execution_count": 3,
   "metadata": {},
   "outputs": [],
   "source": [
    "def return_rows_from_sqlite(select_sql):\n",
    "    try:\n",
    "        c = conn.cursor()\n",
    "        c.execute(select_sql)\n",
    "        rows = c.fetchall()\n",
    "        c.close()  \n",
    "        \n",
    "        return rows\n",
    "    except Error as e:\n",
    "        print(e)"
   ]
  },
  {
   "cell_type": "code",
   "execution_count": 4,
   "metadata": {},
   "outputs": [],
   "source": [
    "def return_spark_df(select_sql, data_schema):\n",
    "    \n",
    "    rows = return_rows_from_sqlite(select_sql)\n",
    "    rdd = sc.parallelize(rows)\n",
    "    df = sqlContext.createDataFrame(rdd, StructType(fields=data_schema))\n",
    "    \n",
    "    return df"
   ]
  },
  {
   "cell_type": "code",
   "execution_count": 5,
   "metadata": {},
   "outputs": [],
   "source": [
    "def return_sentiment_df():\n",
    "    data_schema = [StructField('sentiment_id', StringType(), False),\n",
    "           StructField('user_name', StringType(), False),\n",
    "           StructField('tweet', StringType(), False),\n",
    "           StructField('longitude', FloatType(), False),\n",
    "           StructField('latitude', FloatType(), False),\n",
    "           StructField('sentiment', StringType(), True)\n",
    "          ]\n",
    "    \n",
    "    select_sql = \"select * from sentiment_table where sentiment != ''\"\n",
    "    \n",
    "    sentiment_df = return_spark_df(select_sql, data_schema)\n",
    "    sentiment_df_pandas = sentiment_df.toPandas()\n",
    "    \n",
    "    return sentiment_df_pandas"
   ]
  },
  {
   "cell_type": "code",
   "execution_count": 6,
   "metadata": {},
   "outputs": [],
   "source": [
    "global conn, sc, sqlContext\n",
    "\n",
    "database = \"Twitter_Database.db\"   \n",
    "conn = create_connection(database)\n",
    "\n",
    "sc = SparkContext()\n",
    "sqlContext = SQLContext(sc)"
   ]
  }
 ],
 "metadata": {
  "kernelspec": {
   "display_name": "Python 3",
   "language": "python",
   "name": "python3"
  },
  "language_info": {
   "codemirror_mode": {
    "name": "ipython",
    "version": 3
   },
   "file_extension": ".py",
   "mimetype": "text/x-python",
   "name": "python",
   "nbconvert_exporter": "python",
   "pygments_lexer": "ipython3",
   "version": "3.7.3"
  }
 },
 "nbformat": 4,
 "nbformat_minor": 2
}
