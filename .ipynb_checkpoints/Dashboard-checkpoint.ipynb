{
 "cells": [
  {
   "cell_type": "code",
   "execution_count": 1,
   "metadata": {},
   "outputs": [],
   "source": [
    "%run Return_Dataframes.ipynb"
   ]
  },
  {
   "cell_type": "code",
   "execution_count": 2,
   "metadata": {},
   "outputs": [],
   "source": [
    "import dash\n",
    "from dash.dependencies import Input, Output, State\n",
    "import dash_core_components as dcc\n",
    "import dash_html_components as html\n",
    "import dash_table\n",
    "import plotly.graph_objs as go"
   ]
  },
  {
   "cell_type": "code",
   "execution_count": 3,
   "metadata": {},
   "outputs": [],
   "source": [
    "import re\n",
    "import pandas as pd\n",
    "pd.set_option('mode.chained_assignment', None)"
   ]
  },
  {
   "cell_type": "code",
   "execution_count": 4,
   "metadata": {},
   "outputs": [],
   "source": [
    "from jupyter_plotly_dash import JupyterDash"
   ]
  },
  {
   "cell_type": "markdown",
   "metadata": {},
   "source": [
    "### Dashboard Initialization"
   ]
  },
  {
   "cell_type": "code",
   "execution_count": 5,
   "metadata": {},
   "outputs": [],
   "source": [
    "colors = {\"background\": \"#111111\", \"text\": \"#A4B2AB\", \"plot\" : \"#45464A\", \"main_background\" : \"#111111\"}\n",
    "tab_style = {'borderBottom': '1px solid #d6d6d6','padding': '6px'}\n",
    "tab_selected_style = {'borderTop': '1px solid #d6d6d6','borderBottom': '1px solid #d6d6d6','padding': '6px','fontWeight': 'bold'}"
   ]
  },
  {
   "cell_type": "markdown",
   "metadata": {},
   "source": [
    "### Functions"
   ]
  },
  {
   "cell_type": "code",
   "execution_count": 6,
   "metadata": {},
   "outputs": [],
   "source": [
    "def return_unique_searched_terms(data):\n",
    "    cleaned_text = [text.split('_', 1)[0] for text in data]\n",
    "    unique_terms = list(set(cleaned_text))\n",
    "    unique_terms.sort()\n",
    "    return unique_terms"
   ]
  },
  {
   "cell_type": "code",
   "execution_count": 7,
   "metadata": {},
   "outputs": [],
   "source": [
    "def sentiment_colors(sentiment):\n",
    "    if sentiment == \"Positive\":\n",
    "        return \"#00ff00\"\n",
    "    elif sentiment == \"Negative\":\n",
    "        return \"#ff0000\"\n",
    "    else:\n",
    "        return '#ffff00'"
   ]
  },
  {
   "cell_type": "markdown",
   "metadata": {},
   "source": [
    "### Load Data"
   ]
  },
  {
   "cell_type": "code",
   "execution_count": 8,
   "metadata": {},
   "outputs": [],
   "source": [
    "sentiment_data_on_load = return_sentiment_df()\n",
    "unique_sentiment_search_terms = return_unique_searched_terms(sentiment_data_on_load['sentiment_id'])"
   ]
  },
  {
   "cell_type": "markdown",
   "metadata": {},
   "source": [
    "### Graphs"
   ]
  },
  {
   "cell_type": "code",
   "execution_count": 9,
   "metadata": {},
   "outputs": [],
   "source": [
    "def create_sentiment_map(sentiment_df, unique_sentiment_search_terms, sentiment_term = None):\n",
    "    \n",
    "    if sentiment_term is None:\n",
    "        sentiment_term = unique_sentiment_search_terms[0]\n",
    "        \n",
    "    dff = sentiment_df[sentiment_df['sentiment_id'].str.contains(sentiment_term)]\n",
    "    dff['colour'] = dff.apply (lambda row: sentiment_colors(row['sentiment']), axis=1)\n",
    "    \n",
    "    dff['text'] = 'User: ' + dff['user_name'] + '<br>Tweet: ' + dff['tweet'] + '<br>Sentiment: ' + dff['sentiment']\n",
    "    \n",
    "    \n",
    "    \n",
    "    return {\n",
    "        'data': [go.Scattergeo(\n",
    "            lon=dff['longitude'],\n",
    "            lat=dff['latitude'],\n",
    "            mode='markers',\n",
    "            marker_color = dff['colour'],\n",
    "            text= dff['text']\n",
    "        )],\n",
    "    \n",
    "        'layout': \n",
    "        go.Layout(\n",
    "            title= str('Sentiment Analysis for ' + sentiment_term.title()),\n",
    "            plot_bgcolor = colors['plot'],\n",
    "            paper_bgcolor = colors['plot'],\n",
    "            font = dict(color = colors['text']),\n",
    "\n",
    "        )\n",
    "    }"
   ]
  },
  {
   "cell_type": "code",
   "execution_count": 10,
   "metadata": {},
   "outputs": [],
   "source": [
    "def create_sentiment_weightage(sentiment_df, unique_sentiment_search_terms, sentiment_term = None):\n",
    "    if sentiment_term is None:\n",
    "        sentiment_term = unique_sentiment_search_terms[0]\n",
    "        \n",
    "    dff = sentiment_df[sentiment_df['sentiment_id'].str.contains(sentiment_term)]\n",
    "  \n",
    "    labels = ['Positive', 'Neutral', 'Negative']\n",
    "    colors_sentiment = [\"#00ff00\", \"#ffff00\", \"ff0000\"]\n",
    "    \n",
    "    values = []\n",
    "    for sentiment in labels:\n",
    "        count = dff[dff['sentiment']==sentiment]['sentiment'].count()\n",
    "        values.append(count)\n",
    "        \n",
    "    return {\n",
    "        \"data\": [go.Pie(labels=labels, values=values, hole=.5, marker_colors=colors_sentiment)],\n",
    "        \"layout\": go.Layout(\n",
    "            title= str(\"Sentiment Weightage for \"+ sentiment_term.title()),\n",
    "\n",
    "            showlegend=True,\n",
    "            legend=go.layout.Legend(\n",
    "                orientation =\"h\"\n",
    "            ),\n",
    "                  \n",
    "            plot_bgcolor = colors['plot'],\n",
    "            paper_bgcolor = colors['plot'],\n",
    "            font = dict(color = colors['text'])\n",
    "        )\n",
    "    }    "
   ]
  },
  {
   "cell_type": "markdown",
   "metadata": {},
   "source": [
    "### App Initialization"
   ]
  },
  {
   "cell_type": "code",
   "execution_count": 16,
   "metadata": {},
   "outputs": [],
   "source": [
    "app_name = \"Twitter Analysis\"\n",
    "app = JupyterDash(name=app_name)"
   ]
  },
  {
   "cell_type": "code",
   "execution_count": 17,
   "metadata": {},
   "outputs": [],
   "source": [
    "app.layout = html.Div(\n",
    "    style={\"backgroundColor\": colors[\"main_background\"]},\n",
    "    children=[\n",
    "        ##Header\n",
    "        html.Div([\n",
    "            html.Header(\n",
    "                html.H1(\n",
    "                    \"Twitter Analyzer\",\n",
    "                    style={\n",
    "                        \"padding\": \"1.5rem\",\n",
    "                        \"align-items\": \"center\",\n",
    "                        \"color\": colors[\"text\"],\n",
    "                        \"textAlign\": \"center\",\n",
    "                    },\n",
    "                )\n",
    "            )],className=\"row\",\n",
    "        ),\n",
    "        \n",
    "        ##Datastores                            \n",
    "        #dcc.Store(id='tweet_datastore'),\n",
    "                \n",
    "        ##Tabs\n",
    "        html.Div([\n",
    "            dcc.Tabs(\n",
    "                id=\"tabs\",\n",
    "            \n",
    "                children=[\n",
    "\n",
    "  \n",
    "                    ##Tab 1     \n",
    "                    dcc.Tab(\n",
    "                        label=\"Analysis\",\n",
    "                        style = tab_style,\n",
    "                        selected_style = tab_selected_style,\n",
    "                        children=[\n",
    "                        \n",
    "            \n",
    "                    ]),\n",
    "\n",
    "                    ##Tab 2     \n",
    "                    dcc.Tab(\n",
    "                        label=\"Tweet Sentiment\",\n",
    "                        style = tab_style,\n",
    "                        selected_style = tab_selected_style,\n",
    "                        children=[\n",
    "                        \n",
    "                          html.Div([\n",
    "                             html.Br(),\n",
    "                               html.Div([\n",
    "                                    html.Label(\n",
    "                                        \"Terms:\",\n",
    "                                        style={\n",
    "                                            \"background-color\": colors[\"background\"],\n",
    "                                            \"color\": colors[\"text\"],\n",
    "                                        },\n",
    "                                    ),\n",
    "                                    dcc.Dropdown(\n",
    "                                        id=\"sentiment_terms_picker\",\n",
    "                                        options=[\n",
    "                                            {\n",
    "                                                \"label\": id.title(),\n",
    "                                                \"value\": id,\n",
    "                                            }\n",
    "                                            for id in unique_sentiment_search_terms\n",
    "                                        ],\n",
    "                                        clearable=False,\n",
    "                                        multi=False,\n",
    "                                        style={\"width\": \"250px\"},\n",
    "                                        value=unique_sentiment_search_terms[0]\n",
    "    \n",
    "                                    ),\n",
    "                                    ],style={ \"display\": \"inline-block\",\"padding-left\": \"0.5rem\", \"background-color\": colors[\"background\"],\"color\": colors[\"text\"]},\n",
    "                                ),\n",
    "                              \n",
    "                            html.Div([\n",
    "                                html.Br(),\n",
    "                                html.Div([\n",
    "                                    dcc.Graph(\n",
    "                                        id=\"sentiment_map\",\n",
    "                                        figure=create_sentiment_map(sentiment_data_on_load, unique_sentiment_search_terms),\n",
    "                                        style ={\n",
    "                                            \"padding\": \"0.5rem\",\n",
    "#                                             \"height\": \"100vh\",\n",
    "                                        },\n",
    "                                    )\n",
    "                                    ],style={\"display\": \"inline-block\", 'width': '70%'},\n",
    "                                ), \n",
    "                                html.Div([\n",
    "                                    dcc.Graph(\n",
    "                                        id=\"sentiment_weightage\",\n",
    "                                        figure=create_sentiment_weightage(sentiment_data_on_load, unique_sentiment_search_terms),\n",
    "                                        style ={\n",
    "                                            \"padding\": \"0.5rem\",\n",
    "#                                             \"height\": \"100vh\",\n",
    "                                        },\n",
    "                                    )\n",
    "                                    ],style={\"display\": \"inline-block\", 'width': '30%'},\n",
    "                                ), \n",
    "                            ])     \n",
    "                         ]),\n",
    "            \n",
    "                    ]),\n",
    "                            \n",
    "                    ##Tab 3     \n",
    "                    dcc.Tab(\n",
    "                        label=\"Twitter User Influence\",\n",
    "                        style = tab_style,\n",
    "                        selected_style = tab_selected_style,\n",
    "                        children=[\n",
    "                        \n",
    "            \n",
    "                    ]),\n",
    "        \n",
    " \n",
    "                ],   style ={\n",
    "                    'height': '44px'\n",
    "                }),\n",
    "            ]),\n",
    "        ])"
   ]
  },
  {
   "cell_type": "code",
   "execution_count": 18,
   "metadata": {},
   "outputs": [],
   "source": [
    "@app.callback(Output('sentiment_map', 'figure'),\n",
    "              [Input('sentiment_terms_picker', 'value')])\n",
    "def update_sentiment_map(sentiment_term):\n",
    "\n",
    "    figure = create_sentiment_map(sentiment_data_on_load, unique_sentiment_search_terms, sentiment_term)\n",
    "    \n",
    "    return figure"
   ]
  },
  {
   "cell_type": "code",
   "execution_count": 19,
   "metadata": {},
   "outputs": [],
   "source": [
    "@app.callback(Output('sentiment_weightage', 'figure'),\n",
    "              [Input('sentiment_terms_picker', 'value')])\n",
    "def update_sentiment_weightage(sentiment_term):\n",
    "\n",
    "    figure = create_sentiment_weightage(sentiment_data_on_load, unique_sentiment_search_terms, sentiment_term)\n",
    "    \n",
    "    return figure"
   ]
  },
  {
   "cell_type": "markdown",
   "metadata": {},
   "source": [
    "### Render App"
   ]
  },
  {
   "cell_type": "code",
   "execution_count": 20,
   "metadata": {},
   "outputs": [
    {
     "data": {
      "text/html": [
       "<div>\n",
       "  <iframe src=\"/app/endpoints/e06e787c8c7a4cf98eb71dc14af0de8f/\" width=800 height=600 frameborder=\"0\"></iframe>\n",
       "  <hr/><a href=\"/app/endpoints/e06e787c8c7a4cf98eb71dc14af0de8f/\" target=\"_new\">Open in new window</a> for /app/endpoints/e06e787c8c7a4cf98eb71dc14af0de8f/\n",
       "</div>"
      ],
      "text/plain": [
       "<jupyter_plotly_dash.dash_wrapper.JupyterDash at 0x7fd8c5899d68>"
      ]
     },
     "execution_count": 20,
     "metadata": {},
     "output_type": "execute_result"
    }
   ],
   "source": [
    "app"
   ]
  },
  {
   "cell_type": "code",
   "execution_count": null,
   "metadata": {},
   "outputs": [],
   "source": []
  },
  {
   "cell_type": "code",
   "execution_count": null,
   "metadata": {},
   "outputs": [],
   "source": []
  }
 ],
 "metadata": {
  "kernelspec": {
   "display_name": "Python 3",
   "language": "python",
   "name": "python3"
  },
  "language_info": {
   "codemirror_mode": {
    "name": "ipython",
    "version": 3
   },
   "file_extension": ".py",
   "mimetype": "text/x-python",
   "name": "python",
   "nbconvert_exporter": "python",
   "pygments_lexer": "ipython3",
   "version": "3.7.3"
  }
 },
 "nbformat": 4,
 "nbformat_minor": 2
}
