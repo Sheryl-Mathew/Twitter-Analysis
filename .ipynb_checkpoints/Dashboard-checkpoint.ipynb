{
 "cells": [
  {
   "cell_type": "code",
   "execution_count": 1,
   "metadata": {},
   "outputs": [],
   "source": [
    "%run Return_Dataframes.ipynb\n",
    "%run Functions.ipynb"
   ]
  },
  {
   "cell_type": "code",
   "execution_count": 2,
   "metadata": {},
   "outputs": [],
   "source": [
    "import dash\n",
    "from dash.dependencies import Input, Output, State\n",
    "import dash_core_components as dcc\n",
    "import dash_html_components as html\n",
    "import dash_table\n",
    "import plotly.graph_objs as go"
   ]
  },
  {
   "cell_type": "code",
   "execution_count": 3,
   "metadata": {},
   "outputs": [],
   "source": [
    "import re\n",
    "import pandas as pd\n",
    "pd.set_option('mode.chained_assignment', None)"
   ]
  },
  {
   "cell_type": "code",
   "execution_count": 4,
   "metadata": {},
   "outputs": [],
   "source": [
    "from jupyter_plotly_dash import JupyterDash"
   ]
  },
  {
   "cell_type": "markdown",
   "metadata": {},
   "source": [
    "### Dashboard Initialization"
   ]
  },
  {
   "cell_type": "code",
   "execution_count": 5,
   "metadata": {},
   "outputs": [],
   "source": [
    "colors = {\"background\": \"#111111\", \"text\": \"#A4B2AB\", \"plot\" : \"#45464A\", \"main_background\" : \"#111111\"}\n",
    "tab_style = {'borderBottom': '1px solid #d6d6d6','padding': '6px'}\n",
    "tab_selected_style = {'borderTop': '1px solid #d6d6d6','borderBottom': '1px solid #d6d6d6','padding': '6px','fontWeight': 'bold'}"
   ]
  },
  {
   "cell_type": "markdown",
   "metadata": {},
   "source": [
    "### Load Data"
   ]
  },
  {
   "cell_type": "code",
   "execution_count": 6,
   "metadata": {},
   "outputs": [],
   "source": [
    "sentiment_data_on_load = return_sentiment_df()\n",
    "unique_sentiment_search_terms = return_unique_searched_terms(sentiment_data_on_load['sentiment_id'])"
   ]
  },
  {
   "cell_type": "code",
   "execution_count": 7,
   "metadata": {},
   "outputs": [
    {
     "data": {
      "text/plain": [
       "(1239, 6)"
      ]
     },
     "execution_count": 7,
     "metadata": {},
     "output_type": "execute_result"
    }
   ],
   "source": [
    "sentiment_data_on_load.shape"
   ]
  },
  {
   "cell_type": "code",
   "execution_count": 8,
   "metadata": {},
   "outputs": [],
   "source": [
    "graph_data_on_load = return_graph_df()\n",
    "unique_graph_search_terms = return_unique_searched_terms(graph_data_on_load['graph_id'])"
   ]
  },
  {
   "cell_type": "code",
   "execution_count": 9,
   "metadata": {},
   "outputs": [
    {
     "data": {
      "text/plain": [
       "(1000, 13)"
      ]
     },
     "execution_count": 9,
     "metadata": {},
     "output_type": "execute_result"
    }
   ],
   "source": [
    "graph_data_on_load.shape"
   ]
  },
  {
   "cell_type": "markdown",
   "metadata": {},
   "source": [
    "### Graphs"
   ]
  },
  {
   "cell_type": "code",
   "execution_count": 45,
   "metadata": {},
   "outputs": [],
   "source": [
    "def create_sentiment_map(sentiment_df, unique_sentiment_search_terms, sentiment_term):\n",
    "    \n",
    "    if sentiment_term is None:\n",
    "        sentiment_term = [unique_sentiment_search_terms[0]]\n",
    "    \n",
    "    sentiment_df['search_term'] = sentiment_df.apply (lambda row: row['sentiment_id'].split('_', 1)[0], axis=1)\n",
    "    \n",
    "    dff = sentiment_df[sentiment_df['search_term'].isin(sentiment_term)]\n",
    "    \n",
    "    dff['colour'] = dff.apply (lambda row: sentiment_colors(row['sentiment']), axis=1)\n",
    "    \n",
    "    dff['text'] = 'User: ' + dff['user_name'] + '<br>Tweet: ' + dff['tweet'] + '<br>Sentiment: ' + dff['sentiment']\n",
    "    \n",
    "    sentiment_title = [i.title() for i in sentiment_term]\n",
    "    sentiment_title_join = \", \".join(sentiment_title)\n",
    "    \n",
    "    return {\n",
    "        'data': [go.Scattergeo(\n",
    "            lon=dff['longitude'],\n",
    "            lat=dff['latitude'],\n",
    "            mode='markers',\n",
    "            marker_color = dff['colour'],\n",
    "            text= dff['text']\n",
    "        )],\n",
    "    \n",
    "        'layout': \n",
    "        go.Layout(\n",
    "            title= str('Sentiment Analysis for ' + sentiment_title_join),\n",
    "            plot_bgcolor = colors['plot'],\n",
    "            paper_bgcolor = colors['plot'],\n",
    "            font = dict(color = colors['text']),\n",
    "            geo = dict(\n",
    "                showland=True, showocean=True, \n",
    "                showcountries=True, \n",
    "#                 projection = dict(\n",
    "#                     type='equirectangular'\n",
    "#                 )\n",
    "            )\n",
    "\n",
    "        )\n",
    "    }"
   ]
  },
  {
   "cell_type": "code",
   "execution_count": 46,
   "metadata": {},
   "outputs": [],
   "source": [
    "def create_sentiment_weightage(sentiment_df, unique_sentiment_search_terms, sentiment_term = None):\n",
    "    \n",
    "    if sentiment_term is None:\n",
    "        sentiment_term = [unique_sentiment_search_terms[0]]\n",
    "    \n",
    "    sentiment_df['search_term'] = sentiment_df.apply (lambda row: row['sentiment_id'].split('_', 1)[0], axis=1)\n",
    "    \n",
    "    dff = sentiment_df[sentiment_df['search_term'].isin(sentiment_term)]\n",
    "  \n",
    "    labels = ['Positive', 'Neutral', 'Negative']\n",
    "    colors_sentiment = [\"#00ff00\", \"#ffff00\", \"ff0000\"]\n",
    "    \n",
    "    values = []\n",
    "    for sentiment in labels:\n",
    "        count = dff[dff['sentiment']==sentiment]['sentiment'].count()\n",
    "        values.append(count)\n",
    "        \n",
    "    sentiment_title = [i.title() for i in sentiment_term]\n",
    "    sentiment_title_join = \", \".join(sentiment_title)\n",
    "    \n",
    "    return {\n",
    "        \"data\": [go.Pie(labels=labels, values=values, hole=.5, marker_colors=colors_sentiment)],\n",
    "        \"layout\": go.Layout(\n",
    "            title= str(\"Sentiment Weightage for \"+ sentiment_title_join),\n",
    "\n",
    "            showlegend=True,\n",
    "            legend=go.layout.Legend(\n",
    "                orientation =\"h\"\n",
    "            ),\n",
    "                  \n",
    "            plot_bgcolor = colors['plot'],\n",
    "            paper_bgcolor = colors['plot'],\n",
    "            font = dict(color = colors['text'])\n",
    "        )\n",
    "    }    "
   ]
  },
  {
   "cell_type": "code",
   "execution_count": 47,
   "metadata": {},
   "outputs": [],
   "source": [
    "def create_interaction_graph(graph_df, unique_graph_search_terms, graph_term = None):\n",
    "    \n",
    "    if graph_term is None:\n",
    "        graph_term = [unique_graph_search_terms[0]]\n",
    "    \n",
    "    graph_df['search_term'] = graph_df.apply (lambda row: row['graph_id'].split('_', 1)[0], axis=1)\n",
    "    \n",
    "    dff = graph_df[graph_df['search_term'].isin(graph_term)]\n",
    "    \n",
    "    graph_title = [i.title() for i in graph_term]\n",
    "    graph_title_join = \", \".join(graph_title)\n",
    "        \n",
    "    G = create_network_graph(dff)\n",
    "    \n",
    "    edge_trace = go.Scatter(\n",
    "        x=[],\n",
    "        y=[],\n",
    "        mode='lines'\n",
    "    )\n",
    "        \n",
    "    for edge in G.edges():\n",
    "        x0, y0 = G.node[edge[0]]['pos']\n",
    "        x1, y1 = G.node[edge[1]]['pos']\n",
    "        edge_trace['x'] += tuple([x0, x1, None])\n",
    "        edge_trace['y'] += tuple([y0, y1, None])\n",
    "        \n",
    "    node_trace = go.Scatter(\n",
    "    x=[],\n",
    "    y=[],\n",
    "    text=[],\n",
    "    mode='markers',\n",
    "    hoverinfo='text',\n",
    "    marker=dict(\n",
    "        showscale=True,\n",
    "        colorscale='RdBu',\n",
    "        reversescale=True,\n",
    "        color=[],\n",
    "        size=15,\n",
    "        colorbar=dict(\n",
    "            thickness=10,\n",
    "            title='Node Connections',\n",
    "            xanchor='left',\n",
    "            titleside='right'\n",
    "        ),\n",
    "        line=dict(width=0))\n",
    "    )\n",
    "    \n",
    "    for node in G.nodes():\n",
    "        x, y = G.node[node]['pos']\n",
    "        node_trace['x'] += tuple([x])\n",
    "        node_trace['y'] += tuple([y])\n",
    "        \n",
    "    for node, adjacencies in enumerate(G.adjacency()):\n",
    "        node_trace['marker']['color']+=tuple([len(adjacencies[1])])\n",
    "        node_info = adjacencies[0] +' # of connections: '+str(len(adjacencies[1]))\n",
    "        node_trace['text']+=tuple([node_info])\n",
    "        \n",
    "    return {\n",
    "        \"data\": [edge_trace, node_trace],\n",
    "        \"layout\": go.Layout(\n",
    "            title= str(\"Interaction Network for \"+ graph_title_join),                 \n",
    "            plot_bgcolor = colors['plot'],\n",
    "            paper_bgcolor = colors['plot'],\n",
    "            showlegend=False,\n",
    "            font = dict(color = colors['text']),\n",
    "            annotations=[ dict(\n",
    "                    text=\"No. of connections\",\n",
    "                    showarrow=False,\n",
    "                    xref=\"paper\", yref=\"paper\") ],\n",
    "            xaxis=dict(showgrid=False, zeroline=False, showticklabels=False),\n",
    "            yaxis=dict(showgrid=False, zeroline=False, showticklabels=False),\n",
    "        )\n",
    "    } "
   ]
  },
  {
   "cell_type": "code",
   "execution_count": 87,
   "metadata": {},
   "outputs": [],
   "source": [
    "def create_page_rank_table(graph_df, unique_graph_search_terms, graph_term = None):\n",
    "\n",
    "    graph_df = graph_data_on_load\n",
    "\n",
    "    if graph_term is None:\n",
    "        graph_term = [unique_graph_search_terms[0]]\n",
    "\n",
    "    graph_df['search_term'] = graph_df.apply(lambda row: row['graph_id'].split('_', 1)[0], axis=1)\n",
    "\n",
    "    dff = graph_df[graph_df['search_term'].isin(graph_term)]\n",
    "\n",
    "    graph_title = [i.title() for i in graph_term]\n",
    "    graph_title_join = \", \".join(graph_title)\n",
    "\n",
    "    G = create_network_graph(dff)\n",
    "\n",
    "    users = return_top_n_users_page_rank(G, 15)\n",
    "\n",
    "    return {\n",
    "            \"data\": [go.Table(\n",
    "                header=dict(\n",
    "                        values=['Top Users'],\n",
    "                        line_color=colors['plot'],\n",
    "                        font = dict(color = colors['text'], size=20), \n",
    "                        align='center',\n",
    "                        height=50\n",
    "                        ),\n",
    "                cells=dict(\n",
    "                    values=[list(users['Top User Ranking'])],\n",
    "                    line_color=colors['plot'],\n",
    "\n",
    "                    font = dict(color = colors['text'], size=15), \n",
    "                    align='center',\n",
    "                    height=50\n",
    "                \n",
    "                ))\n",
    "\n",
    "            ],\n",
    "            \"layout\": go.Layout(\n",
    "                title= str(\"Top User Ranking for \"+ graph_title_join),\n",
    "                plot_bgcolor = colors['plot'],\n",
    "                paper_bgcolor = colors['plot'],\n",
    "                font = dict(color = colors['text']),\n",
    "  \n",
    "                \n",
    "            )\n",
    "        }    \n"
   ]
  },
  {
   "cell_type": "markdown",
   "metadata": {},
   "source": [
    "### App Initialization"
   ]
  },
  {
   "cell_type": "code",
   "execution_count": 88,
   "metadata": {},
   "outputs": [],
   "source": [
    "app_name = \"Twitter Analysis\"\n",
    "app = JupyterDash(name=app_name)"
   ]
  },
  {
   "cell_type": "code",
   "execution_count": 89,
   "metadata": {},
   "outputs": [],
   "source": [
    "app.layout = html.Div(\n",
    "    style={\"backgroundColor\": colors[\"main_background\"]},\n",
    "    children=[\n",
    "        ##Header\n",
    "        html.Div([\n",
    "            html.Header(\n",
    "                html.H1(\n",
    "                    \"Twitter Analyzer\",\n",
    "                    style={\n",
    "                        \"padding\": \"1.5rem\",\n",
    "                        \"align-items\": \"center\",\n",
    "                        \"color\": colors[\"text\"],\n",
    "                        \"textAlign\": \"center\",\n",
    "                    },\n",
    "                )\n",
    "            )],className=\"row\",\n",
    "        ),\n",
    "                \n",
    "        ##Tabs\n",
    "        html.Div([\n",
    "            dcc.Tabs(\n",
    "                id=\"tabs\",\n",
    "            \n",
    "                children=[\n",
    "\n",
    "  \n",
    "                    ##Tab 1     \n",
    "                    dcc.Tab(\n",
    "                        label=\"Analysis\",\n",
    "                        style = tab_style,\n",
    "                        selected_style = tab_selected_style,\n",
    "                        children=[\n",
    "                        \n",
    "            \n",
    "                    ]),\n",
    "\n",
    "                    ##Tab 2     \n",
    "                    dcc.Tab(\n",
    "                        label=\"Tweet Sentiment\",\n",
    "                        style = tab_style,\n",
    "                        selected_style = tab_selected_style,\n",
    "                        children=[\n",
    "                        \n",
    "                          html.Div([\n",
    "                             html.Br(),\n",
    "                               html.Div([\n",
    "                                    html.Label(\n",
    "                                        \"Terms:\",\n",
    "                                        style={\n",
    "                                            \"background-color\": colors[\"background\"],\n",
    "                                            \"color\": colors[\"text\"],\n",
    "                                        },\n",
    "                                    ),\n",
    "                                    dcc.Dropdown(\n",
    "                                        id=\"sentiment_terms_picker\",\n",
    "                                        options=[\n",
    "                                            {\n",
    "                                                \"label\": id.title(),\n",
    "                                                \"value\": id,\n",
    "                                            }\n",
    "                                            for id in unique_sentiment_search_terms\n",
    "                                        ],\n",
    "                                        clearable=False,\n",
    "                                        multi=True,\n",
    "                                        style={\"width\": \"250px\"},\n",
    "                                        value=unique_sentiment_search_terms[0]\n",
    "    \n",
    "                                    ),\n",
    "                                    ],style={ \"display\": \"inline-block\",\"padding-left\": \"0.5rem\", \"background-color\": colors[\"background\"],\"color\": colors[\"text\"]},\n",
    "                                ),\n",
    "                              \n",
    "                            html.Div([\n",
    "                                html.Br(),\n",
    "                                html.Div([\n",
    "                                    dcc.Graph(\n",
    "                                        id=\"sentiment_map\",\n",
    "                                        figure=create_sentiment_map(sentiment_data_on_load, \n",
    "                                                                    unique_sentiment_search_terms, \n",
    "                                                                    [unique_sentiment_search_terms[0]]),\n",
    "                                        style ={\n",
    "                                            \"padding\": \"0.5rem\",\n",
    "                                            \n",
    "                                            \"height\": \"100vh\",\n",
    "                                        },\n",
    "                                    )\n",
    "                                    ],style={\"display\": \"inline-block\", 'width': '60%'},\n",
    "                                ), \n",
    "                                html.Div([\n",
    "                                    dcc.Graph(\n",
    "                                        id=\"sentiment_weightage\",\n",
    "                                        figure=create_sentiment_weightage(sentiment_data_on_load, \n",
    "                                                                          unique_sentiment_search_terms,\n",
    "                                                                          [unique_sentiment_search_terms[0]]),\n",
    "                                        style ={\n",
    "                                            \"padding\": \"0.5rem\",\n",
    "                                            \"height\": \"100vh\",\n",
    "                                        },\n",
    "                                    )\n",
    "                                    ],style={\"display\": \"inline-block\", 'width': '40%'},\n",
    "                                ), \n",
    "                            ])     \n",
    "                         ]),\n",
    "            \n",
    "                    ]),\n",
    "                            \n",
    "                    ##Tab 3     \n",
    "                    dcc.Tab(\n",
    "                        label=\"Twitter Graph\",\n",
    "                        style = tab_style,\n",
    "                        selected_style = tab_selected_style,\n",
    "                        children=[\n",
    "                        \n",
    "                 html.Div([\n",
    "                             html.Br(),\n",
    "                               html.Div([\n",
    "                                    html.Label(\n",
    "                                        \"Terms:\",\n",
    "                                        style={\n",
    "                                            \"background-color\": colors[\"background\"],\n",
    "                                            \"color\": colors[\"text\"],\n",
    "                                        },\n",
    "                                    ),\n",
    "                                    dcc.Dropdown(\n",
    "                                        id=\"graph_terms_picker\",\n",
    "                                        options=[\n",
    "                                            {\n",
    "                                                \"label\": id.title(),\n",
    "                                                \"value\": id,\n",
    "                                            }\n",
    "                                            for id in unique_graph_search_terms\n",
    "                                        ],\n",
    "                                        clearable=False,\n",
    "                                        multi=True,\n",
    "                                        style={\"width\": \"250px\"},\n",
    "                                        value=unique_graph_search_terms[0]\n",
    "    \n",
    "                                    ),\n",
    "                                    ],style={ \"display\": \"inline-block\",\"padding-left\": \"0.5rem\", \n",
    "                                             \"background-color\": colors[\"background\"],\"color\": colors[\"text\"]},\n",
    "                                ),\n",
    "                              \n",
    "                            html.Div([\n",
    "                                html.Br(),\n",
    "                                html.Div([\n",
    "                                    dcc.Graph(\n",
    "                                        id=\"interaction_map\",\n",
    "                                        figure=create_interaction_graph(graph_data_on_load, \n",
    "                                                                        unique_graph_search_terms,\n",
    "                                                                       [unique_graph_search_terms[0]]),\n",
    "                                        style ={\n",
    "                                            \"padding\": \"0.5rem\",\n",
    "                                            \"height\": \"100vh\",\n",
    "                                        },\n",
    "                                    )\n",
    "                                    ],style={\"display\": \"inline-block\", 'width': '60%'},\n",
    "                                ), \n",
    "                                html.Div([\n",
    "                                dcc.Graph(\n",
    "                                        id=\"user_rank_table\",\n",
    "                                        figure=create_page_rank_table(graph_data_on_load, \n",
    "                                                                      unique_graph_search_terms,\n",
    "                                                                     [unique_graph_search_terms[0]]),\n",
    "                                        style ={\n",
    "                                            \"padding\": \"0.5rem\",\n",
    "                                            \"height\": \"100vh\",\n",
    "                                        },\n",
    "                                    )\n",
    "                                    ],style={\"display\": \"inline-block\", 'width': '40%'},\n",
    "                                ),             \n",
    "\n",
    "                            ])     \n",
    "                         ]),\n",
    "            \n",
    "                    ]),\n",
    "        \n",
    " \n",
    "                ],   style ={\n",
    "#                     'height': '44px'\n",
    "                }),\n",
    "            ]),\n",
    "        ])"
   ]
  },
  {
   "cell_type": "code",
   "execution_count": 90,
   "metadata": {},
   "outputs": [],
   "source": [
    "@app.callback(Output('sentiment_map', 'figure'),\n",
    "              [Input('sentiment_terms_picker', 'value')])\n",
    "def update_sentiment_map(sentiment_term):\n",
    "\n",
    "    figure = create_sentiment_map(sentiment_data_on_load, unique_sentiment_search_terms, sentiment_term)\n",
    "        \n",
    "    return figure"
   ]
  },
  {
   "cell_type": "code",
   "execution_count": 91,
   "metadata": {},
   "outputs": [],
   "source": [
    "@app.callback(Output('sentiment_weightage', 'figure'),\n",
    "              [Input('sentiment_terms_picker', 'value')])\n",
    "def update_sentiment_weightage(sentiment_term):\n",
    "    \n",
    "    figure = create_sentiment_weightage(sentiment_data_on_load, unique_sentiment_search_terms, sentiment_term)\n",
    "    \n",
    "    return figure"
   ]
  },
  {
   "cell_type": "code",
   "execution_count": 92,
   "metadata": {},
   "outputs": [],
   "source": [
    "@app.callback(Output('interaction_map', 'figure'),\n",
    "              [Input('graph_terms_picker', 'value')])\n",
    "def update_interaction_map(graph_term):\n",
    "\n",
    "    figure = create_interaction_graph(graph_data_on_load, unique_graph_search_terms, graph_term)\n",
    "    \n",
    "    return figure"
   ]
  },
  {
   "cell_type": "code",
   "execution_count": 93,
   "metadata": {},
   "outputs": [],
   "source": [
    "@app.callback(Output('user_rank_table', 'figure'),\n",
    "              [Input('graph_terms_picker', 'value')])\n",
    "def update_user_rank_table(graph_term):\n",
    "   \n",
    "    figure = create_page_rank_table(graph_data_on_load, unique_graph_search_terms)\n",
    "    \n",
    "    return figure"
   ]
  },
  {
   "cell_type": "markdown",
   "metadata": {},
   "source": [
    "### Render App"
   ]
  },
  {
   "cell_type": "code",
   "execution_count": 94,
   "metadata": {
    "scrolled": false
   },
   "outputs": [
    {
     "data": {
      "text/html": [
       "<div>\n",
       "  <iframe src=\"/app/endpoints/358377b335eb4f22937ca3d020e5de75/\" width=800 height=600 frameborder=\"0\"></iframe>\n",
       "  <hr/><a href=\"/app/endpoints/358377b335eb4f22937ca3d020e5de75/\" target=\"_new\">Open in new window</a> for /app/endpoints/358377b335eb4f22937ca3d020e5de75/\n",
       "</div>"
      ],
      "text/plain": [
       "<jupyter_plotly_dash.dash_wrapper.JupyterDash at 0x7f6d7c1be908>"
      ]
     },
     "execution_count": 94,
     "metadata": {},
     "output_type": "execute_result"
    }
   ],
   "source": [
    "app"
   ]
  },
  {
   "cell_type": "code",
   "execution_count": null,
   "metadata": {},
   "outputs": [],
   "source": []
  },
  {
   "cell_type": "code",
   "execution_count": null,
   "metadata": {},
   "outputs": [],
   "source": []
  },
  {
   "cell_type": "code",
   "execution_count": null,
   "metadata": {},
   "outputs": [],
   "source": []
  }
 ],
 "metadata": {
  "kernelspec": {
   "display_name": "Python 3",
   "language": "python",
   "name": "python3"
  },
  "language_info": {
   "codemirror_mode": {
    "name": "ipython",
    "version": 3
   },
   "file_extension": ".py",
   "mimetype": "text/x-python",
   "name": "python",
   "nbconvert_exporter": "python",
   "pygments_lexer": "ipython3",
   "version": "3.7.3"
  }
 },
 "nbformat": 4,
 "nbformat_minor": 2
}
