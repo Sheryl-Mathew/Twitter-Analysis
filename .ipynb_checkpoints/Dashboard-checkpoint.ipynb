{
 "cells": [
  {
   "cell_type": "code",
   "execution_count": 1,
   "metadata": {},
   "outputs": [],
   "source": [
    "%run Return_Dataframes.ipynb"
   ]
  },
  {
   "cell_type": "code",
   "execution_count": 2,
   "metadata": {},
   "outputs": [],
   "source": [
    "%run Functions.ipynb"
   ]
  },
  {
   "cell_type": "code",
   "execution_count": 3,
   "metadata": {},
   "outputs": [],
   "source": [
    "import dash\n",
    "from dash.dependencies import Input, Output, State\n",
    "import dash_core_components as dcc\n",
    "import dash_html_components as html\n",
    "import dash_table\n",
    "import plotly.graph_objs as go"
   ]
  },
  {
   "cell_type": "code",
   "execution_count": 4,
   "metadata": {},
   "outputs": [],
   "source": [
    "import pandas as pd\n",
    "pd.set_option('mode.chained_assignment', None)"
   ]
  },
  {
   "cell_type": "code",
   "execution_count": 5,
   "metadata": {},
   "outputs": [],
   "source": [
    "from jupyter_plotly_dash import JupyterDash"
   ]
  },
  {
   "cell_type": "markdown",
   "metadata": {},
   "source": [
    "### Dashboard Initialization"
   ]
  },
  {
   "cell_type": "code",
   "execution_count": 6,
   "metadata": {},
   "outputs": [],
   "source": [
    "colors = {\"background\": \"#111111\", \"text\": \"#A4B2AB\", \"plot\" : \"#45464A\", \"main_background\" : \"#111111\"}\n",
    "tab_style = {'borderBottom': '1px solid #d6d6d6','padding': '6px'}\n",
    "tab_selected_style = {'borderTop': '1px solid #d6d6d6','borderBottom': '1px solid #d6d6d6','padding': '6px','fontWeight': 'bold'}"
   ]
  },
  {
   "cell_type": "markdown",
   "metadata": {},
   "source": [
    "### Load Data"
   ]
  },
  {
   "cell_type": "code",
   "execution_count": 7,
   "metadata": {},
   "outputs": [
    {
     "data": {
      "text/plain": [
       "['elections', 'electronics', 'movies', 'music', 'politics', 'sports']"
      ]
     },
     "execution_count": 7,
     "metadata": {},
     "output_type": "execute_result"
    }
   ],
   "source": [
    "sentiment_data_on_load = return_sentiment_df()\n",
    "unique_sentiment_search_terms = return_unique_searched_terms(sentiment_data_on_load['sentiment_id'])\n",
    "unique_sentiment_search_terms"
   ]
  },
  {
   "cell_type": "code",
   "execution_count": 8,
   "metadata": {},
   "outputs": [
    {
     "data": {
      "text/plain": [
       "(1401, 6)"
      ]
     },
     "execution_count": 8,
     "metadata": {},
     "output_type": "execute_result"
    }
   ],
   "source": [
    "sentiment_data_on_load.shape"
   ]
  },
  {
   "cell_type": "code",
   "execution_count": 9,
   "metadata": {},
   "outputs": [
    {
     "data": {
      "text/plain": [
       "['elections', 'movies', 'music', 'politics', 'sports']"
      ]
     },
     "execution_count": 9,
     "metadata": {},
     "output_type": "execute_result"
    }
   ],
   "source": [
    "graph_data_on_load = return_graph_df().sample(frac=1).tail(1000)\n",
    "unique_graph_search_terms = return_unique_searched_terms(graph_data_on_load['graph_id'])\n",
    "unique_graph_search_terms"
   ]
  },
  {
   "cell_type": "code",
   "execution_count": 10,
   "metadata": {},
   "outputs": [
    {
     "data": {
      "text/plain": [
       "(1000, 13)"
      ]
     },
     "execution_count": 10,
     "metadata": {},
     "output_type": "execute_result"
    }
   ],
   "source": [
    "graph_data_on_load.shape"
   ]
  },
  {
   "cell_type": "code",
   "execution_count": 11,
   "metadata": {},
   "outputs": [
    {
     "data": {
      "text/plain": [
       "['elections', 'electronics', 'music', 'politics', 'sports']"
      ]
     },
     "execution_count": 11,
     "metadata": {},
     "output_type": "execute_result"
    }
   ],
   "source": [
    "word_data_on_load = return_word_df()\n",
    "unique_word_search_terms = return_unique_searched_terms(word_data_on_load['word_id'])\n",
    "unique_word_search_terms"
   ]
  },
  {
   "cell_type": "code",
   "execution_count": 12,
   "metadata": {},
   "outputs": [
    {
     "data": {
      "text/plain": [
       "(61146, 5)"
      ]
     },
     "execution_count": 12,
     "metadata": {},
     "output_type": "execute_result"
    }
   ],
   "source": [
    "word_data_on_load.shape"
   ]
  },
  {
   "cell_type": "code",
   "execution_count": 13,
   "metadata": {},
   "outputs": [
    {
     "data": {
      "text/plain": [
       "['politics']"
      ]
     },
     "execution_count": 13,
     "metadata": {},
     "output_type": "execute_result"
    }
   ],
   "source": [
    "hashtag_data_on_load = return_hashtag_df()\n",
    "unique_hashtag_search_terms = return_unique_searched_terms(hashtag_data_on_load['hashtag_id'])\n",
    "unique_hashtag_search_terms"
   ]
  },
  {
   "cell_type": "code",
   "execution_count": 14,
   "metadata": {},
   "outputs": [
    {
     "data": {
      "text/plain": [
       "(22, 10)"
      ]
     },
     "execution_count": 14,
     "metadata": {},
     "output_type": "execute_result"
    }
   ],
   "source": [
    "hashtag_data_on_load.shape"
   ]
  },
  {
   "cell_type": "markdown",
   "metadata": {},
   "source": [
    "### Graphs"
   ]
  },
  {
   "cell_type": "code",
   "execution_count": 15,
   "metadata": {},
   "outputs": [],
   "source": [
    "def create_sentiment_map(sentiment_df, unique_sentiment_search_terms, sentiment_term):\n",
    "    \n",
    "    if sentiment_term is None:\n",
    "        sentiment_term = [unique_sentiment_search_terms[0]]\n",
    "    \n",
    "    sentiment_df['search_term'] = sentiment_df.apply (lambda row: row['sentiment_id'].split('_', 1)[0], axis=1)\n",
    "    \n",
    "    dff = sentiment_df[sentiment_df['search_term'].isin(sentiment_term)]\n",
    "    \n",
    "    dff['colour'] = dff.apply (lambda row: sentiment_colors(row['sentiment']), axis=1)\n",
    "    \n",
    "    dff['text'] = 'User: ' + dff['user_name'] + '<br>Tweet: ' + dff['tweet'] + '<br>Sentiment: ' + dff['sentiment']\n",
    "    \n",
    "    sentiment_title = [i.title() for i in sentiment_term]\n",
    "    sentiment_title_join = \", \".join(sentiment_title)\n",
    "    \n",
    "    return {\n",
    "        'data': [go.Scattergeo(\n",
    "            lon=dff['longitude'],\n",
    "            lat=dff['latitude'],\n",
    "            mode='markers',\n",
    "            marker_color = dff['colour'],\n",
    "            text= dff['text']\n",
    "        )],\n",
    "    \n",
    "        'layout': \n",
    "        go.Layout(\n",
    "            title= str('Sentiment Analysis for ' + sentiment_title_join),\n",
    "            plot_bgcolor = colors['plot'],\n",
    "            paper_bgcolor = colors['plot'],\n",
    "            font = dict(color = colors['text']),\n",
    "            geo = dict(\n",
    "                showland=True, showocean=True, \n",
    "                showcountries=True, \n",
    "#                 projection = dict(\n",
    "#                     type='equirectangular'\n",
    "#                 )\n",
    "            )\n",
    "\n",
    "        )\n",
    "    }"
   ]
  },
  {
   "cell_type": "code",
   "execution_count": 16,
   "metadata": {},
   "outputs": [],
   "source": [
    "def create_sentiment_weightage(sentiment_df, unique_sentiment_search_terms, sentiment_term = None):\n",
    "    \n",
    "    if sentiment_term is None:\n",
    "        sentiment_term = [unique_sentiment_search_terms[0]]\n",
    "    \n",
    "    sentiment_df['search_term'] = sentiment_df.apply (lambda row: row['sentiment_id'].split('_', 1)[0], axis=1)\n",
    "    \n",
    "    dff = sentiment_df[sentiment_df['search_term'].isin(sentiment_term)]\n",
    "  \n",
    "    labels = ['Positive', 'Neutral', 'Negative']\n",
    "    colors_sentiment = [\"#00ff00\", \"#ffff00\", \"ff0000\"]\n",
    "    \n",
    "    values = []\n",
    "    for sentiment in labels:\n",
    "        count = dff[dff['sentiment']==sentiment]['sentiment'].count()\n",
    "        values.append(count)\n",
    "        \n",
    "    sentiment_title = [i.title() for i in sentiment_term]\n",
    "    sentiment_title_join = \", \".join(sentiment_title)\n",
    "    \n",
    "    return {\n",
    "        \"data\": [go.Pie(labels=labels, values=values, hole=.5, marker_colors=colors_sentiment)],\n",
    "        \"layout\": go.Layout(\n",
    "            title= str(\"Sentiment Weightage for \"+ sentiment_title_join),\n",
    "\n",
    "            showlegend=True,\n",
    "            legend=go.layout.Legend(\n",
    "                orientation =\"h\"\n",
    "            ),\n",
    "                  \n",
    "            plot_bgcolor = colors['plot'],\n",
    "            paper_bgcolor = colors['plot'],\n",
    "            font = dict(color = colors['text'])\n",
    "        )\n",
    "    }    "
   ]
  },
  {
   "cell_type": "code",
   "execution_count": 17,
   "metadata": {},
   "outputs": [],
   "source": [
    "def create_interaction_graph(graph_df, unique_graph_search_terms, graph_term = None):\n",
    "    \n",
    "    if graph_term is None:\n",
    "        graph_term = [unique_graph_search_terms[0]]\n",
    "    \n",
    "    graph_df['search_term'] = graph_df.apply (lambda row: row['graph_id'].split('_', 1)[0], axis=1)\n",
    "    \n",
    "    dff = graph_df[graph_df['search_term'].isin(graph_term)]\n",
    "    \n",
    "    graph_title = [i.title() for i in graph_term]\n",
    "    graph_title_join = \", \".join(graph_title)\n",
    "        \n",
    "    G = create_network_graph(dff)\n",
    "    \n",
    "    edge_trace = go.Scatter(\n",
    "        x=[],\n",
    "        y=[],\n",
    "        mode='lines'\n",
    "    )\n",
    "        \n",
    "    for edge in G.edges():\n",
    "        x0, y0 = G.node[edge[0]]['pos']\n",
    "        x1, y1 = G.node[edge[1]]['pos']\n",
    "        edge_trace['x'] += tuple([x0, x1, None])\n",
    "        edge_trace['y'] += tuple([y0, y1, None])\n",
    "        \n",
    "    node_trace = go.Scatter(\n",
    "    x=[],\n",
    "    y=[],\n",
    "    text=[],\n",
    "    mode='markers',\n",
    "    hoverinfo='text',\n",
    "    marker=dict(\n",
    "        showscale=True,\n",
    "        colorscale='RdBu',\n",
    "        reversescale=True,\n",
    "        color=[],\n",
    "        size=15,\n",
    "        colorbar=dict(\n",
    "            thickness=10,\n",
    "            title='Node Connections',\n",
    "            xanchor='left',\n",
    "            titleside='right'\n",
    "        ),\n",
    "        line=dict(width=0))\n",
    "    )\n",
    "    \n",
    "    for node in G.nodes():\n",
    "        x, y = G.node[node]['pos']\n",
    "        node_trace['x'] += tuple([x])\n",
    "        node_trace['y'] += tuple([y])\n",
    "        \n",
    "    for node, adjacencies in enumerate(G.adjacency()):\n",
    "        node_trace['marker']['color']+=tuple([len(adjacencies[1])])\n",
    "        node_info = adjacencies[0] +' # of connections: '+str(len(adjacencies[1]))\n",
    "        node_trace['text']+=tuple([node_info])\n",
    "        \n",
    "    return {\n",
    "        \"data\": [edge_trace, node_trace],\n",
    "        \"layout\": go.Layout(\n",
    "            title= str(\"Interaction Network for \"+ graph_title_join),                 \n",
    "            plot_bgcolor = colors['plot'],\n",
    "            paper_bgcolor = colors['plot'],\n",
    "            showlegend=False,\n",
    "            font = dict(color = colors['text']),\n",
    "            annotations=[ dict(\n",
    "                    text=\"No. of connections\",\n",
    "                    showarrow=False,\n",
    "                    xref=\"paper\", yref=\"paper\") ],\n",
    "            xaxis=dict(showgrid=False, zeroline=False, showticklabels=False),\n",
    "            yaxis=dict(showgrid=False, zeroline=False, showticklabels=False),\n",
    "        )\n",
    "    } "
   ]
  },
  {
   "cell_type": "code",
   "execution_count": 18,
   "metadata": {},
   "outputs": [],
   "source": [
    "def create_page_rank_table(graph_df, unique_graph_search_terms, graph_term = None):\n",
    "\n",
    "    graph_df = graph_data_on_load\n",
    "\n",
    "    if graph_term is None:\n",
    "        graph_term = [unique_graph_search_terms[0]]\n",
    "\n",
    "    graph_df['search_term'] = graph_df.apply(lambda row: row['graph_id'].split('_', 1)[0], axis=1)\n",
    "\n",
    "    dff = graph_df[graph_df['search_term'].isin(graph_term)]\n",
    "\n",
    "    graph_title = [i.title() for i in graph_term]\n",
    "    graph_title_join = \", \".join(graph_title)\n",
    "\n",
    "    G = create_network_graph(dff)\n",
    "\n",
    "    users = return_top_n_users_page_rank(G, 15)\n",
    "\n",
    "    return {\n",
    "            \"data\": [go.Table(\n",
    "                header=dict(\n",
    "                        values=['Top Users'],\n",
    "                        line_color=colors['plot'],\n",
    "                        font = dict(color = colors['text'], size=20), \n",
    "                        align='center',\n",
    "                        height=50\n",
    "                        ),\n",
    "                cells=dict(\n",
    "                    values=[list(users['Top User Ranking'])],\n",
    "                    line_color=colors['plot'],\n",
    "\n",
    "                    font = dict(color = colors['text'], size=15), \n",
    "                    align='center',\n",
    "                    height=50\n",
    "                \n",
    "                ))\n",
    "\n",
    "            ],\n",
    "            \"layout\": go.Layout(\n",
    "                title= str(\"Top User Ranking for \"+ graph_title_join),\n",
    "                plot_bgcolor = colors['plot'],\n",
    "                paper_bgcolor = colors['plot'],\n",
    "                font = dict(color = colors['text']),\n",
    "  \n",
    "                \n",
    "            )\n",
    "        }    \n"
   ]
  },
  {
   "cell_type": "code",
   "execution_count": 56,
   "metadata": {},
   "outputs": [],
   "source": [
    "def create_top_words_chart(word_df, unique_word_search_terms, word_term = None):\n",
    "    \n",
    "    if word_term is None:\n",
    "        word_term = [unique_word_search_terms[0]]\n",
    "    \n",
    "    word_df['search_term'] = word_df.apply (lambda row: row['word_id'].split('_', 1)[0], axis=1)\n",
    "    \n",
    "    dff = word_df[word_df['search_term'].isin(word_term)]\n",
    "    \n",
    "    words_frequent = return_word_frequency(dff['text'])\n",
    "    labels, values = zip(*words_frequent)\n",
    "    \n",
    "    labels = [i.title() for i in labels]\n",
    "    labels = list(labels)\n",
    "    labels.reverse()\n",
    "    \n",
    "    values = list(values)\n",
    "    values.reverse()\n",
    "    \n",
    "    word_title = [i.title() for i in word_term]\n",
    "    word_title_join = \", \".join(word_title)\n",
    "    \n",
    "    return {\n",
    "        \"data\": [go.Bar(x=values, y=labels, orientation='h', marker=dict(color='orchid'))],\n",
    "        \"layout\": go.Layout(\n",
    "            title= str(\"Most Frequent Words for \"+ word_title_join),\n",
    "                             \n",
    "            plot_bgcolor = colors['plot'],\n",
    "            paper_bgcolor = colors['plot'],\n",
    "            font = dict(color = colors['text'])\n",
    "        )\n",
    "    }    "
   ]
  },
  {
   "cell_type": "code",
   "execution_count": 57,
   "metadata": {},
   "outputs": [
    {
     "data": {
      "application/vnd.plotly.v1+json": {
       "config": {
        "plotlyServerURL": "https://plot.ly"
       },
       "data": [
        {
         "marker": {
          "color": "orchid"
         },
         "orientation": "h",
         "type": "bar",
         "x": [
          152,
          171,
          239,
          244,
          244,
          245,
          248,
          250,
          252,
          255,
          256,
          261,
          289,
          336,
          848
         ],
         "y": [
          "President",
          "Give",
          "Pelositownhall",
          "Defend",
          "Roads",
          "Lead",
          "Must",
          "End",
          "Teampelosi",
          "Putin",
          "Trump",
          "Day",
          "Way",
          "Democracy",
          "Elections"
         ]
        }
       ],
       "layout": {
        "font": {
         "color": "#A4B2AB"
        },
        "paper_bgcolor": "#45464A",
        "plot_bgcolor": "#45464A",
        "template": {
         "data": {
          "bar": [
           {
            "error_x": {
             "color": "#2a3f5f"
            },
            "error_y": {
             "color": "#2a3f5f"
            },
            "marker": {
             "line": {
              "color": "#E5ECF6",
              "width": 0.5
             }
            },
            "type": "bar"
           }
          ],
          "barpolar": [
           {
            "marker": {
             "line": {
              "color": "#E5ECF6",
              "width": 0.5
             }
            },
            "type": "barpolar"
           }
          ],
          "carpet": [
           {
            "aaxis": {
             "endlinecolor": "#2a3f5f",
             "gridcolor": "white",
             "linecolor": "white",
             "minorgridcolor": "white",
             "startlinecolor": "#2a3f5f"
            },
            "baxis": {
             "endlinecolor": "#2a3f5f",
             "gridcolor": "white",
             "linecolor": "white",
             "minorgridcolor": "white",
             "startlinecolor": "#2a3f5f"
            },
            "type": "carpet"
           }
          ],
          "choropleth": [
           {
            "colorbar": {
             "outlinewidth": 0,
             "ticks": ""
            },
            "type": "choropleth"
           }
          ],
          "contour": [
           {
            "colorbar": {
             "outlinewidth": 0,
             "ticks": ""
            },
            "colorscale": [
             [
              0,
              "#0d0887"
             ],
             [
              0.1111111111111111,
              "#46039f"
             ],
             [
              0.2222222222222222,
              "#7201a8"
             ],
             [
              0.3333333333333333,
              "#9c179e"
             ],
             [
              0.4444444444444444,
              "#bd3786"
             ],
             [
              0.5555555555555556,
              "#d8576b"
             ],
             [
              0.6666666666666666,
              "#ed7953"
             ],
             [
              0.7777777777777778,
              "#fb9f3a"
             ],
             [
              0.8888888888888888,
              "#fdca26"
             ],
             [
              1,
              "#f0f921"
             ]
            ],
            "type": "contour"
           }
          ],
          "contourcarpet": [
           {
            "colorbar": {
             "outlinewidth": 0,
             "ticks": ""
            },
            "type": "contourcarpet"
           }
          ],
          "heatmap": [
           {
            "colorbar": {
             "outlinewidth": 0,
             "ticks": ""
            },
            "colorscale": [
             [
              0,
              "#0d0887"
             ],
             [
              0.1111111111111111,
              "#46039f"
             ],
             [
              0.2222222222222222,
              "#7201a8"
             ],
             [
              0.3333333333333333,
              "#9c179e"
             ],
             [
              0.4444444444444444,
              "#bd3786"
             ],
             [
              0.5555555555555556,
              "#d8576b"
             ],
             [
              0.6666666666666666,
              "#ed7953"
             ],
             [
              0.7777777777777778,
              "#fb9f3a"
             ],
             [
              0.8888888888888888,
              "#fdca26"
             ],
             [
              1,
              "#f0f921"
             ]
            ],
            "type": "heatmap"
           }
          ],
          "heatmapgl": [
           {
            "colorbar": {
             "outlinewidth": 0,
             "ticks": ""
            },
            "colorscale": [
             [
              0,
              "#0d0887"
             ],
             [
              0.1111111111111111,
              "#46039f"
             ],
             [
              0.2222222222222222,
              "#7201a8"
             ],
             [
              0.3333333333333333,
              "#9c179e"
             ],
             [
              0.4444444444444444,
              "#bd3786"
             ],
             [
              0.5555555555555556,
              "#d8576b"
             ],
             [
              0.6666666666666666,
              "#ed7953"
             ],
             [
              0.7777777777777778,
              "#fb9f3a"
             ],
             [
              0.8888888888888888,
              "#fdca26"
             ],
             [
              1,
              "#f0f921"
             ]
            ],
            "type": "heatmapgl"
           }
          ],
          "histogram": [
           {
            "marker": {
             "colorbar": {
              "outlinewidth": 0,
              "ticks": ""
             }
            },
            "type": "histogram"
           }
          ],
          "histogram2d": [
           {
            "colorbar": {
             "outlinewidth": 0,
             "ticks": ""
            },
            "colorscale": [
             [
              0,
              "#0d0887"
             ],
             [
              0.1111111111111111,
              "#46039f"
             ],
             [
              0.2222222222222222,
              "#7201a8"
             ],
             [
              0.3333333333333333,
              "#9c179e"
             ],
             [
              0.4444444444444444,
              "#bd3786"
             ],
             [
              0.5555555555555556,
              "#d8576b"
             ],
             [
              0.6666666666666666,
              "#ed7953"
             ],
             [
              0.7777777777777778,
              "#fb9f3a"
             ],
             [
              0.8888888888888888,
              "#fdca26"
             ],
             [
              1,
              "#f0f921"
             ]
            ],
            "type": "histogram2d"
           }
          ],
          "histogram2dcontour": [
           {
            "colorbar": {
             "outlinewidth": 0,
             "ticks": ""
            },
            "colorscale": [
             [
              0,
              "#0d0887"
             ],
             [
              0.1111111111111111,
              "#46039f"
             ],
             [
              0.2222222222222222,
              "#7201a8"
             ],
             [
              0.3333333333333333,
              "#9c179e"
             ],
             [
              0.4444444444444444,
              "#bd3786"
             ],
             [
              0.5555555555555556,
              "#d8576b"
             ],
             [
              0.6666666666666666,
              "#ed7953"
             ],
             [
              0.7777777777777778,
              "#fb9f3a"
             ],
             [
              0.8888888888888888,
              "#fdca26"
             ],
             [
              1,
              "#f0f921"
             ]
            ],
            "type": "histogram2dcontour"
           }
          ],
          "mesh3d": [
           {
            "colorbar": {
             "outlinewidth": 0,
             "ticks": ""
            },
            "type": "mesh3d"
           }
          ],
          "parcoords": [
           {
            "line": {
             "colorbar": {
              "outlinewidth": 0,
              "ticks": ""
             }
            },
            "type": "parcoords"
           }
          ],
          "scatter": [
           {
            "marker": {
             "colorbar": {
              "outlinewidth": 0,
              "ticks": ""
             }
            },
            "type": "scatter"
           }
          ],
          "scatter3d": [
           {
            "line": {
             "colorbar": {
              "outlinewidth": 0,
              "ticks": ""
             }
            },
            "marker": {
             "colorbar": {
              "outlinewidth": 0,
              "ticks": ""
             }
            },
            "type": "scatter3d"
           }
          ],
          "scattercarpet": [
           {
            "marker": {
             "colorbar": {
              "outlinewidth": 0,
              "ticks": ""
             }
            },
            "type": "scattercarpet"
           }
          ],
          "scattergeo": [
           {
            "marker": {
             "colorbar": {
              "outlinewidth": 0,
              "ticks": ""
             }
            },
            "type": "scattergeo"
           }
          ],
          "scattergl": [
           {
            "marker": {
             "colorbar": {
              "outlinewidth": 0,
              "ticks": ""
             }
            },
            "type": "scattergl"
           }
          ],
          "scattermapbox": [
           {
            "marker": {
             "colorbar": {
              "outlinewidth": 0,
              "ticks": ""
             }
            },
            "type": "scattermapbox"
           }
          ],
          "scatterpolar": [
           {
            "marker": {
             "colorbar": {
              "outlinewidth": 0,
              "ticks": ""
             }
            },
            "type": "scatterpolar"
           }
          ],
          "scatterpolargl": [
           {
            "marker": {
             "colorbar": {
              "outlinewidth": 0,
              "ticks": ""
             }
            },
            "type": "scatterpolargl"
           }
          ],
          "scatterternary": [
           {
            "marker": {
             "colorbar": {
              "outlinewidth": 0,
              "ticks": ""
             }
            },
            "type": "scatterternary"
           }
          ],
          "surface": [
           {
            "colorbar": {
             "outlinewidth": 0,
             "ticks": ""
            },
            "colorscale": [
             [
              0,
              "#0d0887"
             ],
             [
              0.1111111111111111,
              "#46039f"
             ],
             [
              0.2222222222222222,
              "#7201a8"
             ],
             [
              0.3333333333333333,
              "#9c179e"
             ],
             [
              0.4444444444444444,
              "#bd3786"
             ],
             [
              0.5555555555555556,
              "#d8576b"
             ],
             [
              0.6666666666666666,
              "#ed7953"
             ],
             [
              0.7777777777777778,
              "#fb9f3a"
             ],
             [
              0.8888888888888888,
              "#fdca26"
             ],
             [
              1,
              "#f0f921"
             ]
            ],
            "type": "surface"
           }
          ],
          "table": [
           {
            "cells": {
             "fill": {
              "color": "#EBF0F8"
             },
             "line": {
              "color": "white"
             }
            },
            "header": {
             "fill": {
              "color": "#C8D4E3"
             },
             "line": {
              "color": "white"
             }
            },
            "type": "table"
           }
          ]
         },
         "layout": {
          "annotationdefaults": {
           "arrowcolor": "#2a3f5f",
           "arrowhead": 0,
           "arrowwidth": 1
          },
          "colorscale": {
           "diverging": [
            [
             0,
             "#8e0152"
            ],
            [
             0.1,
             "#c51b7d"
            ],
            [
             0.2,
             "#de77ae"
            ],
            [
             0.3,
             "#f1b6da"
            ],
            [
             0.4,
             "#fde0ef"
            ],
            [
             0.5,
             "#f7f7f7"
            ],
            [
             0.6,
             "#e6f5d0"
            ],
            [
             0.7,
             "#b8e186"
            ],
            [
             0.8,
             "#7fbc41"
            ],
            [
             0.9,
             "#4d9221"
            ],
            [
             1,
             "#276419"
            ]
           ],
           "sequential": [
            [
             0,
             "#0d0887"
            ],
            [
             0.1111111111111111,
             "#46039f"
            ],
            [
             0.2222222222222222,
             "#7201a8"
            ],
            [
             0.3333333333333333,
             "#9c179e"
            ],
            [
             0.4444444444444444,
             "#bd3786"
            ],
            [
             0.5555555555555556,
             "#d8576b"
            ],
            [
             0.6666666666666666,
             "#ed7953"
            ],
            [
             0.7777777777777778,
             "#fb9f3a"
            ],
            [
             0.8888888888888888,
             "#fdca26"
            ],
            [
             1,
             "#f0f921"
            ]
           ],
           "sequentialminus": [
            [
             0,
             "#0d0887"
            ],
            [
             0.1111111111111111,
             "#46039f"
            ],
            [
             0.2222222222222222,
             "#7201a8"
            ],
            [
             0.3333333333333333,
             "#9c179e"
            ],
            [
             0.4444444444444444,
             "#bd3786"
            ],
            [
             0.5555555555555556,
             "#d8576b"
            ],
            [
             0.6666666666666666,
             "#ed7953"
            ],
            [
             0.7777777777777778,
             "#fb9f3a"
            ],
            [
             0.8888888888888888,
             "#fdca26"
            ],
            [
             1,
             "#f0f921"
            ]
           ]
          },
          "colorway": [
           "#636efa",
           "#EF553B",
           "#00cc96",
           "#ab63fa",
           "#FFA15A",
           "#19d3f3",
           "#FF6692",
           "#B6E880",
           "#FF97FF",
           "#FECB52"
          ],
          "font": {
           "color": "#2a3f5f"
          },
          "geo": {
           "bgcolor": "white",
           "lakecolor": "white",
           "landcolor": "#E5ECF6",
           "showlakes": true,
           "showland": true,
           "subunitcolor": "white"
          },
          "hoverlabel": {
           "align": "left"
          },
          "hovermode": "closest",
          "mapbox": {
           "style": "light"
          },
          "paper_bgcolor": "white",
          "plot_bgcolor": "#E5ECF6",
          "polar": {
           "angularaxis": {
            "gridcolor": "white",
            "linecolor": "white",
            "ticks": ""
           },
           "bgcolor": "#E5ECF6",
           "radialaxis": {
            "gridcolor": "white",
            "linecolor": "white",
            "ticks": ""
           }
          },
          "scene": {
           "xaxis": {
            "backgroundcolor": "#E5ECF6",
            "gridcolor": "white",
            "gridwidth": 2,
            "linecolor": "white",
            "showbackground": true,
            "ticks": "",
            "zerolinecolor": "white"
           },
           "yaxis": {
            "backgroundcolor": "#E5ECF6",
            "gridcolor": "white",
            "gridwidth": 2,
            "linecolor": "white",
            "showbackground": true,
            "ticks": "",
            "zerolinecolor": "white"
           },
           "zaxis": {
            "backgroundcolor": "#E5ECF6",
            "gridcolor": "white",
            "gridwidth": 2,
            "linecolor": "white",
            "showbackground": true,
            "ticks": "",
            "zerolinecolor": "white"
           }
          },
          "shapedefaults": {
           "line": {
            "color": "#2a3f5f"
           }
          },
          "ternary": {
           "aaxis": {
            "gridcolor": "white",
            "linecolor": "white",
            "ticks": ""
           },
           "baxis": {
            "gridcolor": "white",
            "linecolor": "white",
            "ticks": ""
           },
           "bgcolor": "#E5ECF6",
           "caxis": {
            "gridcolor": "white",
            "linecolor": "white",
            "ticks": ""
           }
          },
          "title": {
           "x": 0.05
          },
          "xaxis": {
           "automargin": true,
           "gridcolor": "white",
           "linecolor": "white",
           "ticks": "",
           "zerolinecolor": "white",
           "zerolinewidth": 2
          },
          "yaxis": {
           "automargin": true,
           "gridcolor": "white",
           "linecolor": "white",
           "ticks": "",
           "zerolinecolor": "white",
           "zerolinewidth": 2
          }
         }
        },
        "title": {
         "text": "Most Frequent Words for Elections"
        }
       }
      },
      "text/html": [
       "<div>\n",
       "        \n",
       "        \n",
       "            <div id=\"28789bc2-4917-4e61-82ba-c739d6957eaf\" class=\"plotly-graph-div\" style=\"height:525px; width:100%;\"></div>\n",
       "            <script type=\"text/javascript\">\n",
       "                require([\"plotly\"], function(Plotly) {\n",
       "                    window.PLOTLYENV=window.PLOTLYENV || {};\n",
       "                    \n",
       "                if (document.getElementById(\"28789bc2-4917-4e61-82ba-c739d6957eaf\")) {\n",
       "                    Plotly.newPlot(\n",
       "                        '28789bc2-4917-4e61-82ba-c739d6957eaf',\n",
       "                        [{\"marker\": {\"color\": \"orchid\"}, \"orientation\": \"h\", \"type\": \"bar\", \"x\": [152, 171, 239, 244, 244, 245, 248, 250, 252, 255, 256, 261, 289, 336, 848], \"y\": [\"President\", \"Give\", \"Pelositownhall\", \"Defend\", \"Roads\", \"Lead\", \"Must\", \"End\", \"Teampelosi\", \"Putin\", \"Trump\", \"Day\", \"Way\", \"Democracy\", \"Elections\"]}],\n",
       "                        {\"font\": {\"color\": \"#A4B2AB\"}, \"paper_bgcolor\": \"#45464A\", \"plot_bgcolor\": \"#45464A\", \"template\": {\"data\": {\"bar\": [{\"error_x\": {\"color\": \"#2a3f5f\"}, \"error_y\": {\"color\": \"#2a3f5f\"}, \"marker\": {\"line\": {\"color\": \"#E5ECF6\", \"width\": 0.5}}, \"type\": \"bar\"}], \"barpolar\": [{\"marker\": {\"line\": {\"color\": \"#E5ECF6\", \"width\": 0.5}}, \"type\": \"barpolar\"}], \"carpet\": [{\"aaxis\": {\"endlinecolor\": \"#2a3f5f\", \"gridcolor\": \"white\", \"linecolor\": \"white\", \"minorgridcolor\": \"white\", \"startlinecolor\": \"#2a3f5f\"}, \"baxis\": {\"endlinecolor\": \"#2a3f5f\", \"gridcolor\": \"white\", \"linecolor\": \"white\", \"minorgridcolor\": \"white\", \"startlinecolor\": \"#2a3f5f\"}, \"type\": \"carpet\"}], \"choropleth\": [{\"colorbar\": {\"outlinewidth\": 0, \"ticks\": \"\"}, \"type\": \"choropleth\"}], \"contour\": [{\"colorbar\": {\"outlinewidth\": 0, \"ticks\": \"\"}, \"colorscale\": [[0.0, \"#0d0887\"], [0.1111111111111111, \"#46039f\"], [0.2222222222222222, \"#7201a8\"], [0.3333333333333333, \"#9c179e\"], [0.4444444444444444, \"#bd3786\"], [0.5555555555555556, \"#d8576b\"], [0.6666666666666666, \"#ed7953\"], [0.7777777777777778, \"#fb9f3a\"], [0.8888888888888888, \"#fdca26\"], [1.0, \"#f0f921\"]], \"type\": \"contour\"}], \"contourcarpet\": [{\"colorbar\": {\"outlinewidth\": 0, \"ticks\": \"\"}, \"type\": \"contourcarpet\"}], \"heatmap\": [{\"colorbar\": {\"outlinewidth\": 0, \"ticks\": \"\"}, \"colorscale\": [[0.0, \"#0d0887\"], [0.1111111111111111, \"#46039f\"], [0.2222222222222222, \"#7201a8\"], [0.3333333333333333, \"#9c179e\"], [0.4444444444444444, \"#bd3786\"], [0.5555555555555556, \"#d8576b\"], [0.6666666666666666, \"#ed7953\"], [0.7777777777777778, \"#fb9f3a\"], [0.8888888888888888, \"#fdca26\"], [1.0, \"#f0f921\"]], \"type\": \"heatmap\"}], \"heatmapgl\": [{\"colorbar\": {\"outlinewidth\": 0, \"ticks\": \"\"}, \"colorscale\": [[0.0, \"#0d0887\"], [0.1111111111111111, \"#46039f\"], [0.2222222222222222, \"#7201a8\"], [0.3333333333333333, \"#9c179e\"], [0.4444444444444444, \"#bd3786\"], [0.5555555555555556, \"#d8576b\"], [0.6666666666666666, \"#ed7953\"], [0.7777777777777778, \"#fb9f3a\"], [0.8888888888888888, \"#fdca26\"], [1.0, \"#f0f921\"]], \"type\": \"heatmapgl\"}], \"histogram\": [{\"marker\": {\"colorbar\": {\"outlinewidth\": 0, \"ticks\": \"\"}}, \"type\": \"histogram\"}], \"histogram2d\": [{\"colorbar\": {\"outlinewidth\": 0, \"ticks\": \"\"}, \"colorscale\": [[0.0, \"#0d0887\"], [0.1111111111111111, \"#46039f\"], [0.2222222222222222, \"#7201a8\"], [0.3333333333333333, \"#9c179e\"], [0.4444444444444444, \"#bd3786\"], [0.5555555555555556, \"#d8576b\"], [0.6666666666666666, \"#ed7953\"], [0.7777777777777778, \"#fb9f3a\"], [0.8888888888888888, \"#fdca26\"], [1.0, \"#f0f921\"]], \"type\": \"histogram2d\"}], \"histogram2dcontour\": [{\"colorbar\": {\"outlinewidth\": 0, \"ticks\": \"\"}, \"colorscale\": [[0.0, \"#0d0887\"], [0.1111111111111111, \"#46039f\"], [0.2222222222222222, \"#7201a8\"], [0.3333333333333333, \"#9c179e\"], [0.4444444444444444, \"#bd3786\"], [0.5555555555555556, \"#d8576b\"], [0.6666666666666666, \"#ed7953\"], [0.7777777777777778, \"#fb9f3a\"], [0.8888888888888888, \"#fdca26\"], [1.0, \"#f0f921\"]], \"type\": \"histogram2dcontour\"}], \"mesh3d\": [{\"colorbar\": {\"outlinewidth\": 0, \"ticks\": \"\"}, \"type\": \"mesh3d\"}], \"parcoords\": [{\"line\": {\"colorbar\": {\"outlinewidth\": 0, \"ticks\": \"\"}}, \"type\": \"parcoords\"}], \"scatter\": [{\"marker\": {\"colorbar\": {\"outlinewidth\": 0, \"ticks\": \"\"}}, \"type\": \"scatter\"}], \"scatter3d\": [{\"line\": {\"colorbar\": {\"outlinewidth\": 0, \"ticks\": \"\"}}, \"marker\": {\"colorbar\": {\"outlinewidth\": 0, \"ticks\": \"\"}}, \"type\": \"scatter3d\"}], \"scattercarpet\": [{\"marker\": {\"colorbar\": {\"outlinewidth\": 0, \"ticks\": \"\"}}, \"type\": \"scattercarpet\"}], \"scattergeo\": [{\"marker\": {\"colorbar\": {\"outlinewidth\": 0, \"ticks\": \"\"}}, \"type\": \"scattergeo\"}], \"scattergl\": [{\"marker\": {\"colorbar\": {\"outlinewidth\": 0, \"ticks\": \"\"}}, \"type\": \"scattergl\"}], \"scattermapbox\": [{\"marker\": {\"colorbar\": {\"outlinewidth\": 0, \"ticks\": \"\"}}, \"type\": \"scattermapbox\"}], \"scatterpolar\": [{\"marker\": {\"colorbar\": {\"outlinewidth\": 0, \"ticks\": \"\"}}, \"type\": \"scatterpolar\"}], \"scatterpolargl\": [{\"marker\": {\"colorbar\": {\"outlinewidth\": 0, \"ticks\": \"\"}}, \"type\": \"scatterpolargl\"}], \"scatterternary\": [{\"marker\": {\"colorbar\": {\"outlinewidth\": 0, \"ticks\": \"\"}}, \"type\": \"scatterternary\"}], \"surface\": [{\"colorbar\": {\"outlinewidth\": 0, \"ticks\": \"\"}, \"colorscale\": [[0.0, \"#0d0887\"], [0.1111111111111111, \"#46039f\"], [0.2222222222222222, \"#7201a8\"], [0.3333333333333333, \"#9c179e\"], [0.4444444444444444, \"#bd3786\"], [0.5555555555555556, \"#d8576b\"], [0.6666666666666666, \"#ed7953\"], [0.7777777777777778, \"#fb9f3a\"], [0.8888888888888888, \"#fdca26\"], [1.0, \"#f0f921\"]], \"type\": \"surface\"}], \"table\": [{\"cells\": {\"fill\": {\"color\": \"#EBF0F8\"}, \"line\": {\"color\": \"white\"}}, \"header\": {\"fill\": {\"color\": \"#C8D4E3\"}, \"line\": {\"color\": \"white\"}}, \"type\": \"table\"}]}, \"layout\": {\"annotationdefaults\": {\"arrowcolor\": \"#2a3f5f\", \"arrowhead\": 0, \"arrowwidth\": 1}, \"colorscale\": {\"diverging\": [[0, \"#8e0152\"], [0.1, \"#c51b7d\"], [0.2, \"#de77ae\"], [0.3, \"#f1b6da\"], [0.4, \"#fde0ef\"], [0.5, \"#f7f7f7\"], [0.6, \"#e6f5d0\"], [0.7, \"#b8e186\"], [0.8, \"#7fbc41\"], [0.9, \"#4d9221\"], [1, \"#276419\"]], \"sequential\": [[0.0, \"#0d0887\"], [0.1111111111111111, \"#46039f\"], [0.2222222222222222, \"#7201a8\"], [0.3333333333333333, \"#9c179e\"], [0.4444444444444444, \"#bd3786\"], [0.5555555555555556, \"#d8576b\"], [0.6666666666666666, \"#ed7953\"], [0.7777777777777778, \"#fb9f3a\"], [0.8888888888888888, \"#fdca26\"], [1.0, \"#f0f921\"]], \"sequentialminus\": [[0.0, \"#0d0887\"], [0.1111111111111111, \"#46039f\"], [0.2222222222222222, \"#7201a8\"], [0.3333333333333333, \"#9c179e\"], [0.4444444444444444, \"#bd3786\"], [0.5555555555555556, \"#d8576b\"], [0.6666666666666666, \"#ed7953\"], [0.7777777777777778, \"#fb9f3a\"], [0.8888888888888888, \"#fdca26\"], [1.0, \"#f0f921\"]]}, \"colorway\": [\"#636efa\", \"#EF553B\", \"#00cc96\", \"#ab63fa\", \"#FFA15A\", \"#19d3f3\", \"#FF6692\", \"#B6E880\", \"#FF97FF\", \"#FECB52\"], \"font\": {\"color\": \"#2a3f5f\"}, \"geo\": {\"bgcolor\": \"white\", \"lakecolor\": \"white\", \"landcolor\": \"#E5ECF6\", \"showlakes\": true, \"showland\": true, \"subunitcolor\": \"white\"}, \"hoverlabel\": {\"align\": \"left\"}, \"hovermode\": \"closest\", \"mapbox\": {\"style\": \"light\"}, \"paper_bgcolor\": \"white\", \"plot_bgcolor\": \"#E5ECF6\", \"polar\": {\"angularaxis\": {\"gridcolor\": \"white\", \"linecolor\": \"white\", \"ticks\": \"\"}, \"bgcolor\": \"#E5ECF6\", \"radialaxis\": {\"gridcolor\": \"white\", \"linecolor\": \"white\", \"ticks\": \"\"}}, \"scene\": {\"xaxis\": {\"backgroundcolor\": \"#E5ECF6\", \"gridcolor\": \"white\", \"gridwidth\": 2, \"linecolor\": \"white\", \"showbackground\": true, \"ticks\": \"\", \"zerolinecolor\": \"white\"}, \"yaxis\": {\"backgroundcolor\": \"#E5ECF6\", \"gridcolor\": \"white\", \"gridwidth\": 2, \"linecolor\": \"white\", \"showbackground\": true, \"ticks\": \"\", \"zerolinecolor\": \"white\"}, \"zaxis\": {\"backgroundcolor\": \"#E5ECF6\", \"gridcolor\": \"white\", \"gridwidth\": 2, \"linecolor\": \"white\", \"showbackground\": true, \"ticks\": \"\", \"zerolinecolor\": \"white\"}}, \"shapedefaults\": {\"line\": {\"color\": \"#2a3f5f\"}}, \"ternary\": {\"aaxis\": {\"gridcolor\": \"white\", \"linecolor\": \"white\", \"ticks\": \"\"}, \"baxis\": {\"gridcolor\": \"white\", \"linecolor\": \"white\", \"ticks\": \"\"}, \"bgcolor\": \"#E5ECF6\", \"caxis\": {\"gridcolor\": \"white\", \"linecolor\": \"white\", \"ticks\": \"\"}}, \"title\": {\"x\": 0.05}, \"xaxis\": {\"automargin\": true, \"gridcolor\": \"white\", \"linecolor\": \"white\", \"ticks\": \"\", \"zerolinecolor\": \"white\", \"zerolinewidth\": 2}, \"yaxis\": {\"automargin\": true, \"gridcolor\": \"white\", \"linecolor\": \"white\", \"ticks\": \"\", \"zerolinecolor\": \"white\", \"zerolinewidth\": 2}}}, \"title\": {\"text\": \"Most Frequent Words for Elections\"}},\n",
       "                        {\"responsive\": true}\n",
       "                    ).then(function(){\n",
       "                            \n",
       "var gd = document.getElementById('28789bc2-4917-4e61-82ba-c739d6957eaf');\n",
       "var x = new MutationObserver(function (mutations, observer) {{\n",
       "        var display = window.getComputedStyle(gd).display;\n",
       "        if (!display || display === 'none') {{\n",
       "            console.log([gd, 'removed!']);\n",
       "            Plotly.purge(gd);\n",
       "            observer.disconnect();\n",
       "        }}\n",
       "}});\n",
       "\n",
       "// Listen for the removal of the full notebook cells\n",
       "var notebookContainer = gd.closest('#notebook-container');\n",
       "if (notebookContainer) {{\n",
       "    x.observe(notebookContainer, {childList: true});\n",
       "}}\n",
       "\n",
       "// Listen for the clearing of the current output cell\n",
       "var outputEl = gd.closest('.output');\n",
       "if (outputEl) {{\n",
       "    x.observe(outputEl, {childList: true});\n",
       "}}\n",
       "\n",
       "                        })\n",
       "                };\n",
       "                });\n",
       "            </script>\n",
       "        </div>"
      ]
     },
     "metadata": {},
     "output_type": "display_data"
    }
   ],
   "source": [
    "fig = go.Figure(create_top_words_chart(word_data_on_load, unique_word_search_terms, word_term = None))\n",
    "fig.show()"
   ]
  },
  {
   "cell_type": "code",
   "execution_count": 53,
   "metadata": {},
   "outputs": [],
   "source": [
    "def create_top_hashtags_chart(hashtag_df, unique_hashtag_search_terms, hashtag_term = None):\n",
    "    \n",
    "    if hashtag_term is None:\n",
    "        hashtag_term = [unique_word_search_terms[0]]\n",
    "    \n",
    "    hashtag_df['search_term'] = hashtag_df.apply (lambda row: row['hashtag_id'].split('_', 1)[0], axis=1)\n",
    "    \n",
    "    dff = hashtag_df[hashtag_df['search_term'].isin(hashtag_term)]\n",
    "    \n",
    "    hashtags_frequent = return_frequent_hashtags(dff['hashtags'])\n",
    "    labels, values = zip(*hashtags_frequent)\n",
    "    \n",
    "    hashtag_title = [i.title() for i in hashtag_term]\n",
    "    hashtag_title_join = \", \".join(hashtag_title)\n",
    "    \n",
    "    return {\n",
    "        \"data\": [go.Bar(x=labels, y=values, marker=dict(color='seagreen'))],\n",
    "        \"layout\": go.Layout(\n",
    "            title= str(\"Most Popular Hashtags for \"+ hashtag_title_join),\n",
    "                             \n",
    "            plot_bgcolor = colors['plot'],\n",
    "            paper_bgcolor = colors['plot'],\n",
    "            font = dict(color = colors['text'])\n",
    "        )\n",
    "    }   "
   ]
  },
  {
   "cell_type": "code",
   "execution_count": 21,
   "metadata": {},
   "outputs": [],
   "source": [
    "def create_top_mentioned_users_chart(graph_df, unique_graph_search_terms, graph_term = None):\n",
    "    \n",
    "    if graph_term is None:\n",
    "        graph_term = [unique_graph_search_terms[0]]\n",
    "    \n",
    "    graph_df['search_term'] = graph_df.apply (lambda row: row['graph_id'].split('_', 1)[0], axis=1)\n",
    "    \n",
    "    dff = graph_df[graph_df['search_term'].isin(graph_term)]\n",
    "    \n",
    "    users_frequent = return_frequent_users(dff['user_mentions_screen_name'])\n",
    "    labels, values = zip(*users_frequent)\n",
    "    \n",
    "    graph_title = [i.title() for i in graph_term]\n",
    "    graph_title_join = \", \".join(graph_title)\n",
    "    \n",
    "    return {\n",
    "        \"data\": [go.Bar(x=labels, y=values, marker=dict(color='coral'))],\n",
    "        \"layout\": go.Layout(\n",
    "            title= str(\"Most Mentioned Users for \"+ graph_title_join),\n",
    "                             \n",
    "            plot_bgcolor = colors['plot'],\n",
    "            paper_bgcolor = colors['plot'],\n",
    "            font = dict(color = colors['text'])\n",
    "        )\n",
    "    }"
   ]
  },
  {
   "cell_type": "code",
   "execution_count": 22,
   "metadata": {},
   "outputs": [],
   "source": [
    "def create_top_source_chart(hashtag_df, unique_hashtag_search_terms, hashtag_term = None):\n",
    "    \n",
    "    if hashtag_term is None:\n",
    "        hashtag_term = [unique_word_search_terms[0]]\n",
    "    \n",
    "    hashtag_df['search_term'] = hashtag_df.apply (lambda row: row['hashtag_id'].split('_', 1)[0], axis=1)\n",
    "    \n",
    "    dff = hashtag_df[hashtag_df['search_term'].isin(hashtag_term)]\n",
    "    \n",
    "    hashtags_frequent = return_frequent_source(dff['source'])\n",
    "    labels, values = zip(*hashtags_frequent)\n",
    "    \n",
    "    hashtag_title = [i.title() for i in hashtag_term]\n",
    "    hashtag_title_join = \", \".join(hashtag_title)\n",
    "    \n",
    "    return {\n",
    "        \"data\": [go.Pie(labels=labels, values=values)],\n",
    "        \"layout\": go.Layout(\n",
    "            title= str(\"Tweet Sources for \"+ hashtag_title_join),\n",
    "                             \n",
    "            plot_bgcolor = colors['plot'],\n",
    "            paper_bgcolor = colors['plot'],\n",
    "            font = dict(color = colors['text'])\n",
    "        )\n",
    "    }   "
   ]
  },
  {
   "cell_type": "markdown",
   "metadata": {},
   "source": [
    "### App Initialization"
   ]
  },
  {
   "cell_type": "code",
   "execution_count": 23,
   "metadata": {},
   "outputs": [],
   "source": [
    "app_name = \"Twitter Analysis\"\n",
    "app = JupyterDash(name=app_name)"
   ]
  },
  {
   "cell_type": "code",
   "execution_count": 24,
   "metadata": {},
   "outputs": [],
   "source": [
    "app.layout = html.Div(\n",
    "    style={\"backgroundColor\": colors[\"main_background\"]},\n",
    "    children=[\n",
    "        ##Header\n",
    "        html.Div([\n",
    "            html.Header(\n",
    "                html.H1(\n",
    "                    \"Twitter Analyzer\",\n",
    "                    style={\n",
    "                        \"padding\": \"1.5rem\",\n",
    "                        \"align-items\": \"center\",\n",
    "                        \"color\": colors[\"text\"],\n",
    "                        \"textAlign\": \"center\",\n",
    "                    },\n",
    "                )\n",
    "            )],className=\"row\",\n",
    "        ),\n",
    "                \n",
    "        ##Tabs\n",
    "        html.Div([\n",
    "            dcc.Tabs(\n",
    "                id=\"tabs\",\n",
    "            \n",
    "                children=[\n",
    "\n",
    "\n",
    "                    ##Tab 1     \n",
    "                    dcc.Tab(\n",
    "                        label=\"Analysis\",\n",
    "                        style = tab_style,\n",
    "                        selected_style = tab_selected_style,\n",
    "                        children=[\n",
    "                         html.Div([\n",
    "                              html.Div([\n",
    "                                  html.Br(),\n",
    "                               html.Div([\n",
    "                                    html.Label(\n",
    "                                        \"Terms:\",\n",
    "                                        style={\n",
    "                                            \"background-color\": colors[\"background\"],\n",
    "                                            \"color\": colors[\"text\"],\n",
    "                                        },\n",
    "                                    ),\n",
    "                                    dcc.Dropdown(\n",
    "                                        id=\"analysis_terms_picker\",\n",
    "                                        options=[\n",
    "                                            {\n",
    "                                                \"label\": id.title(),\n",
    "                                                \"value\": id,\n",
    "                                            }\n",
    "                                            for id in unique_hashtag_search_terms\n",
    "                                        ],\n",
    "                                        clearable=False,\n",
    "                                        multi=True,\n",
    "                                        style={\"width\": \"250px\"},\n",
    "                                        value=unique_hashtag_search_terms[0]\n",
    "    \n",
    "                                    ),\n",
    "                                    ],style={ \"display\": \"inline-block\",\"padding-left\": \"0.5rem\", \n",
    "                                             \"background-color\": colors[\"background\"],\"color\": colors[\"text\"]},\n",
    "                                ),\n",
    "                                  \n",
    "                              ]),\n",
    "                              html.Div([\n",
    "                                  html.Br(),\n",
    "                                html.Div([\n",
    "                                  dcc.Graph(\n",
    "                                        id=\"hashtag\",\n",
    "                                        figure=create_top_hashtags_chart(hashtag_data_on_load, \n",
    "                                                                          unique_hashtag_search_terms,\n",
    "                                                                          [unique_hashtag_search_terms[0]]),\n",
    "                                        style ={\n",
    "                                            \"padding\": \"0.5rem\",\n",
    "                                            \n",
    "                                            \"height\": \"100vh\",\n",
    "                                        },\n",
    "                                    ),\n",
    "                                html.Div([\n",
    "                                    dcc.Graph(\n",
    "                                        id=\"source\",\n",
    "                                        figure=create_top_source_chart(hashtag_data_on_load, \n",
    "                                                                          unique_hashtag_search_terms,\n",
    "                                                                          [unique_hashtag_search_terms[0]]),\n",
    "                                        style ={\n",
    "                                            \"padding\": \"0.5rem\",\n",
    "                                            \"height\": \"100vh\",\n",
    "                                        },\n",
    "                                    )\n",
    "                                    ],style={\"display\": \"inline-block\", 'width': '50%'},\n",
    "                                ), \n",
    "                              ]),\n",
    "                            \n",
    "                              html.Div([\n",
    "                                  html.Br(),\n",
    "                                html.Div([\n",
    "                                      dcc.Graph(\n",
    "                                        id=\"words\",\n",
    "                                        figure=create_top_words_chart(word_data_on_load, \n",
    "                                                                    unique_word_search_terms, \n",
    "                                                                    [unique_word_search_terms[0]]),\n",
    "                                        style ={\n",
    "                                            \"padding\": \"0.5rem\",\n",
    "                                            \n",
    "                                            \"height\": \"100vh\",\n",
    "                                        },\n",
    "                                    )\n",
    "                                    ],style={\"display\": \"inline-block\", 'width': '50%'},\n",
    "                                ), \n",
    "                                    \n",
    "                                    ],style={\"display\": \"inline-block\", 'width': '50%'},\n",
    "                                ), \n",
    "                                html.Div([\n",
    "                                    dcc.Graph(\n",
    "                                        id=\"mentioned_users\",\n",
    "                                        figure=create_top_mentioned_users_chart(graph_data_on_load, \n",
    "                                                                          unique_graph_search_terms,\n",
    "                                                                          [unique_graph_search_terms[0]]),\n",
    "                                        style ={\n",
    "                                            \"padding\": \"0.5rem\",\n",
    "                                            \"height\": \"100vh\",\n",
    "                                        },\n",
    "                                    )\n",
    "                                    ],style={\"display\": \"inline-block\", 'width': '50%'},\n",
    "                                ), ])\n",
    "                         ])\n",
    "            \n",
    "                    ]),\n",
    "\n",
    "                    ##Tab 2     \n",
    "                    dcc.Tab(\n",
    "                        label=\"Tweet Sentiment\",\n",
    "                        style = tab_style,\n",
    "                        selected_style = tab_selected_style,\n",
    "                        children=[\n",
    "                        \n",
    "                          html.Div([\n",
    "                             html.Br(),\n",
    "                               html.Div([\n",
    "                                    html.Label(\n",
    "                                        \"Terms:\",\n",
    "                                        style={\n",
    "                                            \"background-color\": colors[\"background\"],\n",
    "                                            \"color\": colors[\"text\"],\n",
    "                                        },\n",
    "                                    ),\n",
    "                                    dcc.Dropdown(\n",
    "                                        id=\"sentiment_terms_picker\",\n",
    "                                        options=[\n",
    "                                            {\n",
    "                                                \"label\": id.title(),\n",
    "                                                \"value\": id,\n",
    "                                            }\n",
    "                                            for id in unique_sentiment_search_terms\n",
    "                                        ],\n",
    "                                        clearable=False,\n",
    "                                        multi=True,\n",
    "                                        style={\"width\": \"250px\"},\n",
    "                                        value=unique_sentiment_search_terms[0]\n",
    "    \n",
    "                                    ),\n",
    "                                    ],style={ \"display\": \"inline-block\",\"padding-left\": \"0.5rem\", \n",
    "                                             \"background-color\": colors[\"background\"],\"color\": colors[\"text\"]},\n",
    "                                ),\n",
    "                              \n",
    "                            html.Div([\n",
    "                                html.Br(),\n",
    "                                html.Div([\n",
    "                                    dcc.Graph(\n",
    "                                        id=\"sentiment_map\",\n",
    "                                        figure=create_sentiment_map(sentiment_data_on_load, \n",
    "                                                                    unique_sentiment_search_terms, \n",
    "                                                                    [unique_sentiment_search_terms[0]]),\n",
    "                                        style ={\n",
    "                                            \"padding\": \"0.5rem\",\n",
    "                                            \n",
    "                                            \"height\": \"100vh\",\n",
    "                                        },\n",
    "                                    )\n",
    "                                    ],style={\"display\": \"inline-block\", 'width': '60%'},\n",
    "                                ), \n",
    "                                html.Div([\n",
    "                                    dcc.Graph(\n",
    "                                        id=\"sentiment_weightage\",\n",
    "                                        figure=create_sentiment_weightage(sentiment_data_on_load, \n",
    "                                                                          unique_sentiment_search_terms,\n",
    "                                                                          [unique_sentiment_search_terms[0]]),\n",
    "                                        style ={\n",
    "                                            \"padding\": \"0.5rem\",\n",
    "                                            \"height\": \"100vh\",\n",
    "                                        },\n",
    "                                    )\n",
    "                                    ],style={\"display\": \"inline-block\", 'width': '40%'},\n",
    "                                ), \n",
    "                            ])     \n",
    "                         ]),\n",
    "            \n",
    "                    ]),\n",
    "                            \n",
    "                    ##Tab 3     \n",
    "                    dcc.Tab(\n",
    "                        label=\"Twitter Graph\",\n",
    "                        style = tab_style,\n",
    "                        selected_style = tab_selected_style,\n",
    "                        children=[\n",
    "                        \n",
    "                 html.Div([\n",
    "                             html.Br(),\n",
    "                               html.Div([\n",
    "                                    html.Label(\n",
    "                                        \"Terms:\",\n",
    "                                        style={\n",
    "                                            \"background-color\": colors[\"background\"],\n",
    "                                            \"color\": colors[\"text\"],\n",
    "                                        },\n",
    "                                    ),\n",
    "                                    dcc.Dropdown(\n",
    "                                        id=\"graph_terms_picker\",\n",
    "                                        options=[\n",
    "                                            {\n",
    "                                                \"label\": id.title(),\n",
    "                                                \"value\": id,\n",
    "                                            }\n",
    "                                            for id in unique_graph_search_terms\n",
    "                                        ],\n",
    "                                        clearable=False,\n",
    "                                        multi=True,\n",
    "                                        style={\"width\": \"250px\"},\n",
    "                                        value=unique_graph_search_terms[0]\n",
    "    \n",
    "                                    ),\n",
    "                                    ],style={ \"display\": \"inline-block\",\"padding-left\": \"0.5rem\", \n",
    "                                             \"background-color\": colors[\"background\"],\"color\": colors[\"text\"]},\n",
    "                                ),\n",
    "                              \n",
    "                            html.Div([\n",
    "                                html.Br(),\n",
    "                                html.Div([\n",
    "                                    dcc.Graph(\n",
    "                                        id=\"interaction_map\",\n",
    "                                        figure=create_interaction_graph(graph_data_on_load, \n",
    "                                                                        unique_graph_search_terms,\n",
    "                                                                       [unique_graph_search_terms[0]]),\n",
    "                                        style ={\n",
    "                                            \"padding\": \"0.5rem\",\n",
    "                                            \"height\": \"100vh\",\n",
    "                                        },\n",
    "                                    )\n",
    "                                    ],style={\"display\": \"inline-block\", 'width': '60%'},\n",
    "                                ), \n",
    "                                html.Div([\n",
    "                                dcc.Graph(\n",
    "                                        id=\"user_rank_table\",\n",
    "                                        figure=create_page_rank_table(graph_data_on_load, \n",
    "                                                                      unique_graph_search_terms,\n",
    "                                                                     [unique_graph_search_terms[0]]),\n",
    "                                        style ={\n",
    "                                            \"padding\": \"0.5rem\",\n",
    "                                            \"height\": \"100vh\",\n",
    "                                        },\n",
    "                                    )\n",
    "                                    ],style={\"display\": \"inline-block\", 'width': '40%'},\n",
    "                                ),             \n",
    "\n",
    "                            ])     \n",
    "                         ]),\n",
    "            \n",
    "                    ]),\n",
    "        \n",
    " \n",
    "                ],   style ={\n",
    "#                     'height': '44px'\n",
    "                }),\n",
    "            ]),\n",
    "        ])"
   ]
  },
  {
   "cell_type": "code",
   "execution_count": 25,
   "metadata": {},
   "outputs": [],
   "source": [
    "@app.callback(Output('sentiment_map', 'figure'),\n",
    "              [Input('sentiment_terms_picker', 'value')])\n",
    "def update_sentiment_map(sentiment_term):\n",
    "\n",
    "    figure = create_sentiment_map(sentiment_data_on_load, unique_sentiment_search_terms, sentiment_term)\n",
    "        \n",
    "    return figure"
   ]
  },
  {
   "cell_type": "code",
   "execution_count": 26,
   "metadata": {},
   "outputs": [],
   "source": [
    "@app.callback(Output('sentiment_weightage', 'figure'),\n",
    "              [Input('sentiment_terms_picker', 'value')])\n",
    "def update_sentiment_weightage(sentiment_term):\n",
    "    \n",
    "    figure = create_sentiment_weightage(sentiment_data_on_load, unique_sentiment_search_terms, sentiment_term)\n",
    "    \n",
    "    return figure"
   ]
  },
  {
   "cell_type": "code",
   "execution_count": 27,
   "metadata": {},
   "outputs": [],
   "source": [
    "@app.callback(Output('interaction_map', 'figure'),\n",
    "              [Input('graph_terms_picker', 'value')])\n",
    "def update_interaction_map(graph_term):\n",
    "\n",
    "    figure = create_interaction_graph(graph_data_on_load, unique_graph_search_terms, graph_term)\n",
    "    \n",
    "    return figure"
   ]
  },
  {
   "cell_type": "code",
   "execution_count": 28,
   "metadata": {},
   "outputs": [],
   "source": [
    "@app.callback(Output('user_rank_table', 'figure'),\n",
    "              [Input('graph_terms_picker', 'value')])\n",
    "def update_user_rank_table(graph_term):\n",
    "   \n",
    "    figure = create_page_rank_table(graph_data_on_load, unique_graph_search_terms, graph_term)\n",
    "    \n",
    "    return figure"
   ]
  },
  {
   "cell_type": "code",
   "execution_count": 58,
   "metadata": {},
   "outputs": [],
   "source": [
    "@app.callback(Output('hashtag', 'figure'),\n",
    "              [Input('analysis_terms_picker', 'value')])\n",
    "def update_hashtags(analysis_term):\n",
    "   \n",
    "    figure = create_top_hashtags_chart(hashtag_data_on_load, unique_hashtag_search_terms, analysis_term)\n",
    "    \n",
    "    return figure"
   ]
  },
  {
   "cell_type": "code",
   "execution_count": 59,
   "metadata": {},
   "outputs": [],
   "source": [
    "@app.callback(Output('source', 'figure'),\n",
    "              [Input('analysis_terms_picker', 'value')])\n",
    "def update_source(analysis_term):\n",
    "   \n",
    "    figure = create_top_source_chart(hashtag_data_on_load, unique_hashtag_search_terms, analysis_term)\n",
    "    \n",
    "    return figure"
   ]
  },
  {
   "cell_type": "code",
   "execution_count": 60,
   "metadata": {},
   "outputs": [],
   "source": [
    "@app.callback(Output('words', 'figure'),\n",
    "              [Input('analysis_terms_picker', 'value')])\n",
    "def update_words(analysis_term):\n",
    "   \n",
    "    figure = create_top_words_chart(word_data_on_load, unique_word_search_terms, analysis_term)\n",
    "    \n",
    "    return figure"
   ]
  },
  {
   "cell_type": "code",
   "execution_count": 61,
   "metadata": {},
   "outputs": [],
   "source": [
    "@app.callback(Output('mentioned_users', 'figure'),\n",
    "              [Input('analysis_terms_picker', 'value')])\n",
    "def update_mentioned_users(analysis_term):\n",
    "   \n",
    "    figure = create_top_mentioned_users_chart(graph_data_on_load, unique_graph_search_terms, analysis_term)\n",
    "    \n",
    "    return figure"
   ]
  },
  {
   "cell_type": "markdown",
   "metadata": {},
   "source": [
    "### Render App"
   ]
  },
  {
   "cell_type": "code",
   "execution_count": 29,
   "metadata": {
    "scrolled": false
   },
   "outputs": [
    {
     "data": {
      "text/html": [
       "<div>\n",
       "  <iframe src=\"/app/endpoints/d6b65e0d2a694bb5944758204ba57e91/\" width=800 height=600 frameborder=\"0\"></iframe>\n",
       "  <hr/><a href=\"/app/endpoints/d6b65e0d2a694bb5944758204ba57e91/\" target=\"_new\">Open in new window</a> for /app/endpoints/d6b65e0d2a694bb5944758204ba57e91/\n",
       "</div>"
      ],
      "text/plain": [
       "<jupyter_plotly_dash.dash_wrapper.JupyterDash at 0x7f3234406dd8>"
      ]
     },
     "execution_count": 29,
     "metadata": {},
     "output_type": "execute_result"
    }
   ],
   "source": [
    "app"
   ]
  },
  {
   "cell_type": "code",
   "execution_count": null,
   "metadata": {},
   "outputs": [],
   "source": []
  },
  {
   "cell_type": "code",
   "execution_count": null,
   "metadata": {},
   "outputs": [],
   "source": []
  },
  {
   "cell_type": "code",
   "execution_count": null,
   "metadata": {},
   "outputs": [],
   "source": []
  }
 ],
 "metadata": {
  "kernelspec": {
   "display_name": "Python 3",
   "language": "python",
   "name": "python3"
  },
  "language_info": {
   "codemirror_mode": {
    "name": "ipython",
    "version": 3
   },
   "file_extension": ".py",
   "mimetype": "text/x-python",
   "name": "python",
   "nbconvert_exporter": "python",
   "pygments_lexer": "ipython3",
   "version": "3.7.3"
  }
 },
 "nbformat": 4,
 "nbformat_minor": 2
}
